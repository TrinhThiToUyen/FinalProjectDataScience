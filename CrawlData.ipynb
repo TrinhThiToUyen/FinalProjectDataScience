{
 "cells": [
  {
   "cell_type": "markdown",
   "metadata": {},
   "source": [
    "# Nhóm 3\n",
    "####    Phạm Hoàng Tín\n",
    "####    Trịnh Thị Tố Uyên\n",
    "\n",
    "## 1. Câu hỏi: Làm sao phân loại văn bản tiếng Việt dựa vào tiêu đề và nội dung?\n",
    "\n",
    "## 2. Dữ liệu Train: \n",
    "### Tất cả 130 452 bài báo trên trang Vnxpress, gồm 5 thể loại: \n",
    "####   - Thời sự: 22 653 bài\n",
    "####   - Giáo dục: 24 766 bài\n",
    "####   - Khoa học: 26 787 bài\n",
    "####   - Pháp luật: 27 975 bài\n",
    "####   - Thế giới:  28 271 bài\n",
    "\n",
    "## 3. Input/Output:\n",
    "###   - Input: Tiêu đề và nội dung của văn bản \n",
    "\n",
    "###   - Output: Phân loại được thể loại văn bản thuộc 1 trong 5 thể loại"
   ]
  },
  {
   "cell_type": "code",
   "execution_count": 1,
   "metadata": {},
   "outputs": [],
   "source": [
    "# Import libraries\n",
    "import pandas as pd\n",
    "import requests\n",
    "from bs4 import BeautifulSoup \n",
    "import json, codecs, os\n",
    "from time import time"
   ]
  },
  {
   "cell_type": "code",
   "execution_count": 2,
   "metadata": {},
   "outputs": [],
   "source": [
    "\"\"\"\n",
    "def 01\n",
    "\n",
    "Description: def parse_html_from_url(url)\n",
    "- Return html tree structor of a newspaper(or a url)\n",
    "\"\"\"\n",
    "\n",
    "def parse_html_from_url(url):\n",
    "    response  = requests.get(url)\n",
    "    html_tree = BeautifulSoup(response.text, 'lxml')\n",
    " \n",
    "    return html_tree"
   ]
  },
  {
   "cell_type": "code",
   "execution_count": 3,
   "metadata": {},
   "outputs": [],
   "source": [
    "'''\n",
    "def 02\n",
    "\n",
    "Description: get_name_topic(url):\n",
    "- Return name topic of a url\n",
    "'''\n",
    "def get_name_topic(url):\n",
    "    page_html_tree = parse_html_from_url(url)\n",
    "    \n",
    "    try:\n",
    "        page_name = page_html_tree.find(class_= \"breadcrumb left\")\n",
    "\n",
    "        name = ''\n",
    "\n",
    "        for i in page_name.findAll('a'):\n",
    "\n",
    "            name += ' ' + i.text\n",
    "            \n",
    "            return name\n",
    "\n",
    "    except:\n",
    "            return None\n",
    "  "
   ]
  },
  {
   "cell_type": "code",
   "execution_count": 4,
   "metadata": {},
   "outputs": [],
   "source": [
    "# Get all data a page, such as: thoi-su-p2\n",
    "# give: url of page, topic\n",
    "# return: list has element is dictionary(title, content)\n",
    "# such as:    data [ {'url': ,'topic': , 'title': , 'content': }, \n",
    "#                    {'url': ,'topic': , 'title': , 'content': }\n",
    "#                  ]\n",
    "\n",
    "def get_data_from_all_urls_in_a_page(url_page, topic):\n",
    "    page_html_tree = parse_html_from_url(url_page)\n",
    "    page_sidebar_1 = page_html_tree.find(class_= \"sidebar_1\") \n",
    "  \n",
    "    data = []\n",
    "   \n",
    "    for url in page_sidebar_1.find_all(class_ = 'title_news'):\n",
    "        element_url = url.find('a')['href']  # get url\n",
    "        name = get_name_topic(element_url)\n",
    "        \n",
    "        if (name == topic):                            # check topic\n",
    "            data1 = crawl_data_from_a_url(element_url) # element dictionary\n",
    "            \n",
    "            if(data1 != None):\n",
    "                data.append(data1)                     # add list data\n",
    "\n",
    "    return data"
   ]
  },
  {
   "cell_type": "code",
   "execution_count": 5,
   "metadata": {},
   "outputs": [],
   "source": [
    "\"\"\"\n",
    "Description: def crawl_data_from_a_url(url)\n",
    "- Get title and content of a newspaper(it is a url)\n",
    "- Return a dictionary has kind \n",
    "       dic {'Title': title,\n",
    "            'Content': content}\n",
    "\"\"\"\n",
    "\n",
    "def crawl_data_from_a_url(url):\n",
    "    data = {}  \n",
    "    html_tree = parse_html_from_url(url)\n",
    "    \n",
    "    try: \n",
    "        element_sidebar_1 = html_tree.find(class_= \"sidebar_1\")\n",
    "        \n",
    "         # 1. Get topic\n",
    "        nameTopic = get_name_topic(url)\n",
    "\n",
    "        # 2. Get title\n",
    "        title = element_sidebar_1.find(class_= \"title_news_detail mb10\").text\n",
    "        title = title.replace('\\n', '')\n",
    "        \n",
    "        # 3. Get content\n",
    "        content = ''\n",
    "      \n",
    "        for paragraph in element_sidebar_1.find_all(class_ = 'Normal'):\n",
    "            content += ' ' + paragraph.text\n",
    "      \n",
    "        content = content.replace('\\n','')\n",
    " \n",
    "        # 4. Get into data\n",
    "        data.update({'Link': url})\n",
    "        data.update({'Topic': nameTopic})\n",
    "        data.update({'Title': title})\n",
    "        data.update({'Content': content})\n",
    "     \n",
    "\n",
    "        return data \n",
    "  \n",
    "    except:\n",
    "        return None"
   ]
  },
  {
   "cell_type": "code",
   "execution_count": 6,
   "metadata": {},
   "outputs": [],
   "source": [
    "# Save data of topic to file .txt\n",
    "# list name: \"listData\"\n",
    "# file .txt name: fileName\n",
    "\n",
    "def save_data_of_a_page_topic_to_txt(listData, fileName):\n",
    "    f = codecs.open(fileName, 'a+', 'utf-8')\n",
    "    k = 1\n",
    "  \n",
    "    for i in listData:\n",
    "        f.write(str(k) + '\\n')\n",
    "        f.write(i['Link'] + '\\n')\n",
    "        f.write(i['Topic'] + '\\n')  \n",
    "        f.write(i['Title'] + '\\n')\n",
    "        f.write(i['Content'] + '\\n\\n\\n')\n",
    "        k += 1\n",
    "\n",
    "    f.close()\n",
    "\n",
    "    return None\n"
   ]
  },
  {
   "cell_type": "code",
   "execution_count": 7,
   "metadata": {},
   "outputs": [],
   "source": [
    "# Save data to file .txt\n",
    "# list name: \"listData\"\n",
    "# file .txt name: fileName\n",
    "\n",
    "def save_data_of_a_page_to_txt(listData, fileName):\n",
    "    f = codecs.open(fileName, 'a+', 'utf-8')\n",
    "  \n",
    "    for i in listData:\n",
    "        \n",
    "        f.write(i['Link'] + '\\n')\n",
    "        f.write(i['Topic'] + '\\n')  \n",
    "        f.write(i['Title'] + '\\n')\n",
    "        f.write(i['Content'] + '\\n\\n\\n')\n",
    "\n",
    "    f.close()\n",
    "\n",
    "    return None"
   ]
  },
  {
   "cell_type": "code",
   "execution_count": 8,
   "metadata": {},
   "outputs": [],
   "source": [
    "# Get topic name from page 1 of topic\n",
    "def get_topic(page_urls):\n",
    "    topic = []\n",
    "    k = 1\n",
    "    \n",
    "    for page in page_urls:\n",
    "        nameTopic = get_name_topic(page)\n",
    "        topic.insert(k, nameTopic)\n",
    "        k += 1\n",
    "        \n",
    "    return topic"
   ]
  },
  {
   "cell_type": "code",
   "execution_count": 9,
   "metadata": {},
   "outputs": [],
   "source": [
    "'''\n",
    "give: topic, list page_url\n",
    "return: data all page of page_url\n",
    "'''\n",
    "def get_all_data_of_topic(topic, page_url):\n",
    "    number = 1\n",
    "    temp = []\n",
    "  \n",
    "    while(number <= 2):\n",
    "        page = page_url + '-p' + str(number)\n",
    "        temp += get_data_from_all_urls_in_a_page(page, topic)\n",
    "        number += 1\n",
    "  \n",
    "    return temp, number"
   ]
  },
  {
   "cell_type": "code",
   "execution_count": 10,
   "metadata": {},
   "outputs": [],
   "source": [
    "\n",
    "def data_Collection(page_urls):\n",
    "    topic = get_topic(page_urls)\n",
    "    k = 0\n",
    "    data = []\n",
    "  \n",
    "    # Get data\n",
    "    for i in page_urls:\n",
    "        temp, number = get_all_data_of_topic(topic[k], i)\n",
    "        fileName = str(topic[k]) + ' ' + str(number - 1) + '.txt'\n",
    "        save_data_of_a_page_topic_to_txt(temp, fileName)\n",
    "    \n",
    "        data += temp\n",
    "        k += 1\n",
    "        \n",
    "    fileInput = 'Input02.txt'\n",
    "    save_data_of_a_page_to_txt(data, fileInput)\n",
    "\n",
    "    return data, fileInput"
   ]
  },
  {
   "cell_type": "code",
   "execution_count": 11,
   "metadata": {},
   "outputs": [
    {
     "name": "stdout",
     "output_type": "stream",
     "text": [
      "249\n",
      "303.7999882698059\n"
     ]
    }
   ],
   "source": [
    "# Main collect data \n",
    "start = time()\n",
    "\n",
    "#page_urls = ['https://vnexpress.net/giao-duc']\n",
    "page_urls = ['https://vnexpress.net/thoi-su',\n",
    "              'https://vnexpress.net/the-gioi',\n",
    "              'https://vnexpress.net/phap-luat', \n",
    "              'https://vnexpress.net/khoa-hoc',\n",
    "              'https://vnexpress.net/giao-duc']\n",
    "\n",
    "data, fileIn = data_Collection(page_urls)\n",
    "\n",
    "print(len(data))\n",
    "\n",
    "end = time() - start\n",
    "\n",
    "print(end)"
   ]
  },
  {
   "cell_type": "code",
   "execution_count": 35,
   "metadata": {},
   "outputs": [
    {
     "name": "stdout",
     "output_type": "stream",
     "text": [
      "1\n"
     ]
    },
    {
     "ename": "NameError",
     "evalue": "name 'url' is not defined",
     "output_type": "error",
     "traceback": [
      "\u001b[1;31m---------------------------------------------------------------------------\u001b[0m",
      "\u001b[1;31mNameError\u001b[0m                                 Traceback (most recent call last)",
      "\u001b[1;32m<ipython-input-35-51db2193adf5>\u001b[0m in \u001b[0;36m<module>\u001b[1;34m\u001b[0m\n\u001b[0;32m     11\u001b[0m \u001b[1;33m\u001b[0m\u001b[0m\n\u001b[0;32m     12\u001b[0m     \u001b[1;32mif\u001b[0m\u001b[1;33m(\u001b[0m\u001b[0mtemp\u001b[0m \u001b[1;33m!=\u001b[0m \u001b[1;34m'\\n'\u001b[0m\u001b[1;33m)\u001b[0m\u001b[1;33m:\u001b[0m\u001b[1;33m\u001b[0m\u001b[1;33m\u001b[0m\u001b[0m\n\u001b[1;32m---> 13\u001b[1;33m         \u001b[0mdata\u001b[0m\u001b[1;33m.\u001b[0m\u001b[0mupdate\u001b[0m\u001b[1;33m(\u001b[0m\u001b[1;33m{\u001b[0m\u001b[1;34m'Link'\u001b[0m\u001b[1;33m:\u001b[0m \u001b[0murl\u001b[0m\u001b[1;33m}\u001b[0m\u001b[1;33m)\u001b[0m\u001b[1;33m\u001b[0m\u001b[1;33m\u001b[0m\u001b[0m\n\u001b[0m\u001b[0;32m     14\u001b[0m         \u001b[0mdata\u001b[0m\u001b[1;33m.\u001b[0m\u001b[0mupdate\u001b[0m\u001b[1;33m(\u001b[0m\u001b[1;33m{\u001b[0m\u001b[1;34m'Topic'\u001b[0m\u001b[1;33m:\u001b[0m \u001b[0mnameTopic\u001b[0m\u001b[1;33m}\u001b[0m\u001b[1;33m)\u001b[0m\u001b[1;33m\u001b[0m\u001b[1;33m\u001b[0m\u001b[0m\n\u001b[0;32m     15\u001b[0m         \u001b[0mdata\u001b[0m\u001b[1;33m.\u001b[0m\u001b[0mupdate\u001b[0m\u001b[1;33m(\u001b[0m\u001b[1;33m{\u001b[0m\u001b[1;34m'Title'\u001b[0m\u001b[1;33m:\u001b[0m \u001b[0mtitle\u001b[0m\u001b[1;33m}\u001b[0m\u001b[1;33m)\u001b[0m\u001b[1;33m\u001b[0m\u001b[1;33m\u001b[0m\u001b[0m\n",
      "\u001b[1;31mNameError\u001b[0m: name 'url' is not defined"
     ]
    }
   ],
   "source": [
    "fileName = 'Input02.txt'\n",
    "\n",
    "file = open(fileName, encoding = \"utf8\")\n",
    "i = 1\n",
    "data = []\n",
    "\n",
    "for line in file:\n",
    "    temp = line\n",
    "    \n",
    "    print(i)\n",
    "    \n",
    "    if(temp != '\\n'):\n",
    "        data.update({'Link': line})\n",
    "        data.update({'Topic': nameTopic})\n",
    "        data.update({'Title': title})\n",
    "        data.update({'Content': content})\n",
    "    \n",
    "    i += 1\n",
    "        \n",
    "file.close()"
   ]
  },
  {
   "cell_type": "code",
   "execution_count": null,
   "metadata": {},
   "outputs": [],
   "source": []
  }
 ],
 "metadata": {
  "kernelspec": {
   "display_name": "Python 3",
   "language": "python",
   "name": "python3"
  },
  "language_info": {
   "codemirror_mode": {
    "name": "ipython",
    "version": 3
   },
   "file_extension": ".py",
   "mimetype": "text/x-python",
   "name": "python",
   "nbconvert_exporter": "python",
   "pygments_lexer": "ipython3",
   "version": "3.7.4"
  }
 },
 "nbformat": 4,
 "nbformat_minor": 2
}
