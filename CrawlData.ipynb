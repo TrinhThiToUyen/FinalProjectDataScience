{
 "cells": [
  {
   "cell_type": "code",
   "execution_count": 1,
   "metadata": {},
   "outputs": [],
   "source": [
    "# Import libraries\n",
    "import pandas as pd\n",
    "import requests\n",
    "from bs4 import BeautifulSoup \n",
    "import json, codecs, os\n",
    "from time import time"
   ]
  },
  {
   "cell_type": "code",
   "execution_count": 2,
   "metadata": {},
   "outputs": [],
   "source": [
    "\"\"\"\n",
    "def 01\n",
    "\n",
    "Description: def parse_html_from_url(url)\n",
    "- Return html tree structor of a newspaper(or a url)\n",
    "\"\"\"\n",
    "\n",
    "def parse_html_from_url(url):\n",
    "    response  = requests.get(url)\n",
    "    html_tree = BeautifulSoup(response.text, 'lxml')\n",
    " \n",
    "    return html_tree"
   ]
  },
  {
   "cell_type": "code",
   "execution_count": 3,
   "metadata": {},
   "outputs": [],
   "source": [
    "'''\n",
    "def 02\n",
    "\n",
    "Description: get_name_topic(url):\n",
    "- Return name topic of a url\n",
    "'''\n",
    "def get_name_topic(url):\n",
    "    page_html_tree = parse_html_from_url(url)\n",
    "    \n",
    "    try:\n",
    "        page_name = page_html_tree.find(class_= \"breadcrumb left\")\n",
    "\n",
    "        name = ''\n",
    "\n",
    "        for i in page_name.findAll('a'):\n",
    "\n",
    "            name += ' ' + i.text\n",
    "            \n",
    "            return name\n",
    "\n",
    "    except:\n",
    "            return None\n",
    "  "
   ]
  },
  {
   "cell_type": "code",
   "execution_count": 4,
   "metadata": {},
   "outputs": [],
   "source": [
    "# Get all data a page, such as: thoi-su-p2\n",
    "# give: url of page, topic\n",
    "# return: list has element is dictionary(title, content)\n",
    "# such as:    data [ {'url': ,'topic': , 'title': , 'content': }, \n",
    "#                    {'url': ,'topic': , 'title': , 'content': }\n",
    "#                  ]\n",
    "\n",
    "def get_data_from_all_urls_in_a_page(url_page, topic):\n",
    "    page_html_tree = parse_html_from_url(url_page)\n",
    "    page_sidebar_1 = page_html_tree.find(class_= \"sidebar_1\") \n",
    "  \n",
    "    data = []\n",
    "   \n",
    "    for url in page_sidebar_1.find_all(class_ = 'title_news'):\n",
    "        element_url = url.find('a')['href']  # get url\n",
    "        name = get_name_topic(element_url)\n",
    "        \n",
    "        if (name == topic):                            # check topic\n",
    "            data1 = crawl_data_from_a_url(element_url) # element dictionary\n",
    "            \n",
    "            if(data1 != None):\n",
    "                data.append(data1)                     # add list data\n",
    "\n",
    "    return data"
   ]
  },
  {
   "cell_type": "code",
   "execution_count": 5,
   "metadata": {},
   "outputs": [],
   "source": [
    "\"\"\"\n",
    "Description: def crawl_data_from_a_url(url)\n",
    "- Get title and content of a newspaper(it is a url)\n",
    "- Return a dictionary has kind \n",
    "       dic {'Title': title,\n",
    "            'Content': content}\n",
    "\"\"\"\n",
    "\n",
    "def crawl_data_from_a_url(url):\n",
    "    data = {}  \n",
    "    html_tree = parse_html_from_url(url)\n",
    "    \n",
    "    try: \n",
    "        element_sidebar_1 = html_tree.find(class_= \"sidebar_1\")\n",
    "        \n",
    "         # 1. Get topic\n",
    "        nameTopic = get_name_topic(url)\n",
    "        nameTopic = nameTopic.strip()\n",
    "\n",
    "        # 2. Get title\n",
    "        title = element_sidebar_1.find(class_= \"title_news_detail mb10\").text\n",
    "        title = title.replace('\\n', '')\n",
    "        title = title.replace('\\t', '')\n",
    "        title = title.strip()\n",
    "        \n",
    "        # 3. Get content\n",
    "        content = ''\n",
    "      \n",
    "        for paragraph in element_sidebar_1.find_all(class_ = 'Normal'):\n",
    "            content += ' ' + paragraph.text\n",
    "      \n",
    "        content = content.replace('\\n','')\n",
    "        content = content.replace('\\t','')\n",
    "        content = content.strip()\n",
    " \n",
    "        # 4. Get into data\n",
    "        if(len(url) < 2):\n",
    "            data.update({'Link': 'NULL'})\n",
    "        else:\n",
    "            data.update({'Link': url})\n",
    "            \n",
    "        if(len(nameTopic) < 2):\n",
    "            data.update({'Topic': 'NULL'}) \n",
    "        else: \n",
    "            data.update({'Topic': nameTopic})\n",
    "            \n",
    "        if(len(title) < 2):\n",
    "            data.update({'Title': 'NULL'})\n",
    "        else:\n",
    "            data.update({'Title': title})\n",
    "        \n",
    "        if(len(content) < 2):\n",
    "            data.update({'Content': 'NULL'})\n",
    "        else:\n",
    "            data.update({'Content': content})\n",
    "\n",
    "        return data \n",
    "  \n",
    "    except:\n",
    "        return None"
   ]
  },
  {
   "cell_type": "code",
   "execution_count": 6,
   "metadata": {},
   "outputs": [],
   "source": [
    "def save_data_of_a_page_to_txt(listData, fileName):\n",
    "    f = codecs.open(fileName, 'a+', 'utf-8')\n",
    "    \n",
    "    for i in listData:\n",
    "        \n",
    "        f.write(i['Link'] + '\\t')\n",
    "        f.write(i['Topic'] + '\\t')  \n",
    "        f.write(i['Title'] + '\\t')\n",
    "        f.write(i['Content'])\n",
    "        f.write('\\n')\n",
    "\n",
    "    f.close()\n",
    "\n",
    "    return None"
   ]
  },
  {
   "cell_type": "code",
   "execution_count": 7,
   "metadata": {},
   "outputs": [],
   "source": [
    "# Get topic name from page 1 of topic\n",
    "def get_topic(page_urls):\n",
    "    topic = []\n",
    "    k = 1\n",
    "    \n",
    "    for page in page_urls:\n",
    "        nameTopic = get_name_topic(page)\n",
    "        topic.insert(k, nameTopic)\n",
    "        k += 1\n",
    "        \n",
    "    return topic"
   ]
  },
  {
   "cell_type": "code",
   "execution_count": 8,
   "metadata": {},
   "outputs": [],
   "source": [
    "'''\n",
    "give: topic, list page_url\n",
    "return: data all page of page_url\n",
    "'''\n",
    "def get_all_data_of_topic(topic, page_url):\n",
    "    number = 2041\n",
    "    temp = []\n",
    "  \n",
    "    while(number <= 2060):\n",
    "        page = page_url + '-p' + str(number)\n",
    "        temp += get_data_from_all_urls_in_a_page(page, topic)\n",
    "        number += 1\n",
    "  \n",
    "    return temp, number"
   ]
  },
  {
   "cell_type": "code",
   "execution_count": 9,
   "metadata": {},
   "outputs": [],
   "source": [
    "\n",
    "def data_Collection(page_urls):\n",
    "    topic = get_topic(page_urls)\n",
    "    k = 0\n",
    "    data = []\n",
    "  \n",
    "    # Get data\n",
    "    for i in page_urls:\n",
    "        temp, number = get_all_data_of_topic(topic[k], i)    \n",
    "        data += temp\n",
    "        k += 1\n",
    "        \n",
    "    fileInput = 'Input.txt'\n",
    "    save_data_of_a_page_to_txt(data, fileInput)\n",
    "\n",
    "    return data, fileInput"
   ]
  },
  {
   "cell_type": "code",
   "execution_count": null,
   "metadata": {},
   "outputs": [],
   "source": [
    "# Main collect data \n",
    "start = time()\n",
    "\n",
    "page_urls = ['https://vnexpress.net/thoi-su',\n",
    "              'https://vnexpress.net/the-gioi',\n",
    "              'https://vnexpress.net/phap-luat', \n",
    "              'https://vnexpress.net/khoa-hoc',\n",
    "              'https://vnexpress.net/giao-duc']\n",
    "\n",
    "data, fileIn = data_Collection(page_urls)\n",
    "\n",
    "print(len(data))\n",
    "\n",
    "end = time() - start\n",
    "\n",
    "print(end)"
   ]
  },
  {
   "cell_type": "code",
   "execution_count": null,
   "metadata": {},
   "outputs": [],
   "source": [
    "df = pd.read_csv(\"Input.txt\", header = None, sep = \"\\t\", encoding = \"utf-8\")"
   ]
  },
  {
   "cell_type": "code",
   "execution_count": null,
   "metadata": {},
   "outputs": [],
   "source": [
    "len(df)"
   ]
  },
  {
   "cell_type": "code",
   "execution_count": null,
   "metadata": {},
   "outputs": [],
   "source": [
    "df.isnull().sum().sum()"
   ]
  },
  {
   "cell_type": "code",
   "execution_count": null,
   "metadata": {},
   "outputs": [],
   "source": []
  },
  {
   "cell_type": "code",
   "execution_count": null,
   "metadata": {},
   "outputs": [],
   "source": []
  }
 ],
 "metadata": {
  "kernelspec": {
   "display_name": "Python 3",
   "language": "python",
   "name": "python3"
  },
  "language_info": {
   "codemirror_mode": {
    "name": "ipython",
    "version": 3
   },
   "file_extension": ".py",
   "mimetype": "text/x-python",
   "name": "python",
   "nbconvert_exporter": "python",
   "pygments_lexer": "ipython3",
   "version": "3.7.4"
  }
 },
 "nbformat": 4,
 "nbformat_minor": 4
}
