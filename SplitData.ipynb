{
 "cells": [
  {
   "cell_type": "code",
   "execution_count": 23,
   "metadata": {},
   "outputs": [],
   "source": [
    "import warnings\n",
    "warnings.filterwarnings(\"ignore\")\n",
    "\n",
    "%matplotlib inline\n",
    "import matplotlib.pyplot as plt\n",
    "import seaborn as sns \n",
    "import pandas as pd\n",
    "import numpy as np\n",
    "\n",
    "from sklearn.model_selection import train_test_split\n",
    "from sklearn.feature_extraction.text import TfidfVectorizer\n",
    "from sklearn.model_selection import train_test_split\n",
    "from sklearn.preprocessing import OneHotEncoder, StandardScaler\n",
    "from sklearn.impute import SimpleImputer\n",
    "from sklearn.base import BaseEstimator, TransformerMixin\n",
    "from sklearn.pipeline import Pipeline, make_pipeline\n",
    "from sklearn.compose import ColumnTransformer, make_column_transformer\n",
    "from sklearn.neural_network import MLPClassifier\n",
    "\n",
    "# You can also import other things ...\n",
    "# YOUR CODE HERE (OPTION)\n",
    "import re\n",
    "from sklearn import preprocessing"
   ]
  },
  {
   "cell_type": "code",
   "execution_count": 31,
   "metadata": {},
   "outputs": [],
   "source": [
    "from sklearn.linear_model import LinearRegression\n",
    "from sklearn.ensemble import RandomForestRegressor"
   ]
  },
  {
   "cell_type": "code",
   "execution_count": 2,
   "metadata": {},
   "outputs": [
    {
     "data": {
      "text/plain": [
       "'0.21.3'"
      ]
     },
     "execution_count": 2,
     "metadata": {},
     "output_type": "execute_result"
    }
   ],
   "source": [
    "import sklearn\n",
    "sklearn.__version__"
   ]
  },
  {
   "cell_type": "code",
   "execution_count": 3,
   "metadata": {},
   "outputs": [],
   "source": [
    "df1 = pd.read_csv(\"data.txt\", sep = \"\\t\", encoding = \"utf-8\", header = None)\n",
    "df1.columns = ['Link', 'Topic','Title', 'Content']"
   ]
  },
  {
   "cell_type": "code",
   "execution_count": 4,
   "metadata": {},
   "outputs": [
    {
     "data": {
      "text/html": [
       "<div>\n",
       "<style scoped>\n",
       "    .dataframe tbody tr th:only-of-type {\n",
       "        vertical-align: middle;\n",
       "    }\n",
       "\n",
       "    .dataframe tbody tr th {\n",
       "        vertical-align: top;\n",
       "    }\n",
       "\n",
       "    .dataframe thead th {\n",
       "        text-align: right;\n",
       "    }\n",
       "</style>\n",
       "<table border=\"1\" class=\"dataframe\">\n",
       "  <thead>\n",
       "    <tr style=\"text-align: right;\">\n",
       "      <th></th>\n",
       "      <th>Link</th>\n",
       "      <th>Topic</th>\n",
       "      <th>Title</th>\n",
       "      <th>Content</th>\n",
       "    </tr>\n",
       "  </thead>\n",
       "  <tbody>\n",
       "    <tr>\n",
       "      <td>count</td>\n",
       "      <td>151487</td>\n",
       "      <td>151487</td>\n",
       "      <td>151487</td>\n",
       "      <td>140813</td>\n",
       "    </tr>\n",
       "    <tr>\n",
       "      <td>unique</td>\n",
       "      <td>145258</td>\n",
       "      <td>5</td>\n",
       "      <td>137060</td>\n",
       "      <td>124129</td>\n",
       "    </tr>\n",
       "    <tr>\n",
       "      <td>top</td>\n",
       "      <td>https://vnexpress.net/giao-duc/duoc-nguoi-la-t...</td>\n",
       "      <td>Thế giới</td>\n",
       "      <td>Năm câu đố tìm điểm bất hợp lý</td>\n",
       "      <td>Mời độc giả đặt câu hỏi tại đây.</td>\n",
       "    </tr>\n",
       "    <tr>\n",
       "      <td>freq</td>\n",
       "      <td>140</td>\n",
       "      <td>32806</td>\n",
       "      <td>141</td>\n",
       "      <td>595</td>\n",
       "    </tr>\n",
       "  </tbody>\n",
       "</table>\n",
       "</div>"
      ],
      "text/plain": [
       "                                                     Link     Topic  \\\n",
       "count                                              151487    151487   \n",
       "unique                                             145258         5   \n",
       "top     https://vnexpress.net/giao-duc/duoc-nguoi-la-t...  Thế giới   \n",
       "freq                                                  140     32806   \n",
       "\n",
       "                                 Title                           Content  \n",
       "count                           151487                            140813  \n",
       "unique                          137060                            124129  \n",
       "top     Năm câu đố tìm điểm bất hợp lý  Mời độc giả đặt câu hỏi tại đây.  \n",
       "freq                               141                               595  "
      ]
     },
     "execution_count": 4,
     "metadata": {},
     "output_type": "execute_result"
    }
   ],
   "source": [
    "df1.describe()"
   ]
  },
  {
   "cell_type": "code",
   "execution_count": 5,
   "metadata": {},
   "outputs": [
    {
     "name": "stdout",
     "output_type": "stream",
     "text": [
      "<class 'pandas.core.frame.DataFrame'>\n",
      "RangeIndex: 151487 entries, 0 to 151486\n",
      "Data columns (total 4 columns):\n",
      "Link       151487 non-null object\n",
      "Topic      151487 non-null object\n",
      "Title      151487 non-null object\n",
      "Content    140813 non-null object\n",
      "dtypes: object(4)\n",
      "memory usage: 4.6+ MB\n"
     ]
    }
   ],
   "source": [
    "df1.info()"
   ]
  },
  {
   "cell_type": "code",
   "execution_count": 6,
   "metadata": {},
   "outputs": [
    {
     "data": {
      "text/html": [
       "<div>\n",
       "<style scoped>\n",
       "    .dataframe tbody tr th:only-of-type {\n",
       "        vertical-align: middle;\n",
       "    }\n",
       "\n",
       "    .dataframe tbody tr th {\n",
       "        vertical-align: top;\n",
       "    }\n",
       "\n",
       "    .dataframe thead th {\n",
       "        text-align: right;\n",
       "    }\n",
       "</style>\n",
       "<table border=\"1\" class=\"dataframe\">\n",
       "  <thead>\n",
       "    <tr style=\"text-align: right;\">\n",
       "      <th></th>\n",
       "      <th>Link</th>\n",
       "      <th>Topic</th>\n",
       "      <th>Title</th>\n",
       "      <th>Content</th>\n",
       "    </tr>\n",
       "  </thead>\n",
       "  <tbody>\n",
       "    <tr>\n",
       "      <td>0</td>\n",
       "      <td>https://vnexpress.net/giao-duc/bon-cau-do-do-k...</td>\n",
       "      <td>Giáo dục</td>\n",
       "      <td>Bốn câu đố đo khả năng phản xạ</td>\n",
       "      <td>Câu 1: Một cậu bé 7 tuổi đứng từ cửa sổ tầng 6...</td>\n",
       "    </tr>\n",
       "    <tr>\n",
       "      <td>1</td>\n",
       "      <td>https://vnexpress.net/giao-duc/thay-giao-singa...</td>\n",
       "      <td>Giáo dục</td>\n",
       "      <td>Thầy giáo Singapore đi tù vì ấu dâm học sinh</td>\n",
       "      <td>Ngày 22/4, tòa án ở Singapore tuyên phạt một g...</td>\n",
       "    </tr>\n",
       "    <tr>\n",
       "      <td>2</td>\n",
       "      <td>https://vnexpress.net/giao-duc/de-xuat-giao-du...</td>\n",
       "      <td>Giáo dục</td>\n",
       "      <td>Đề xuất giáo dục phổ thông trong 11 năm</td>\n",
       "      <td>Tại hội nghị phản biện Luật Giáo dục (sửa đổi)...</td>\n",
       "    </tr>\n",
       "    <tr>\n",
       "      <td>3</td>\n",
       "      <td>https://vnexpress.net/giao-duc/phu-huynh-my-ke...</td>\n",
       "      <td>Giáo dục</td>\n",
       "      <td>Phụ huynh Mỹ kêu gọi sa thải giáo viên vì phê ...</td>\n",
       "      <td>Chris Piland, sống ở bang Pennsylvania, Mỹ phẫ...</td>\n",
       "    </tr>\n",
       "    <tr>\n",
       "      <td>4</td>\n",
       "      <td>https://vnexpress.net/giao-duc/ngoi-truong-dan...</td>\n",
       "      <td>Giáo dục</td>\n",
       "      <td>Ngôi trường dành riêng cho học sinh bị bắt nạt...</td>\n",
       "      <td>Nạn bắt nạt gây ảnh hưởng tiêu cực đến cuộc số...</td>\n",
       "    </tr>\n",
       "  </tbody>\n",
       "</table>\n",
       "</div>"
      ],
      "text/plain": [
       "                                                Link     Topic  \\\n",
       "0  https://vnexpress.net/giao-duc/bon-cau-do-do-k...  Giáo dục   \n",
       "1  https://vnexpress.net/giao-duc/thay-giao-singa...  Giáo dục   \n",
       "2  https://vnexpress.net/giao-duc/de-xuat-giao-du...  Giáo dục   \n",
       "3  https://vnexpress.net/giao-duc/phu-huynh-my-ke...  Giáo dục   \n",
       "4  https://vnexpress.net/giao-duc/ngoi-truong-dan...  Giáo dục   \n",
       "\n",
       "                                               Title  \\\n",
       "0                     Bốn câu đố đo khả năng phản xạ   \n",
       "1       Thầy giáo Singapore đi tù vì ấu dâm học sinh   \n",
       "2            Đề xuất giáo dục phổ thông trong 11 năm   \n",
       "3  Phụ huynh Mỹ kêu gọi sa thải giáo viên vì phê ...   \n",
       "4  Ngôi trường dành riêng cho học sinh bị bắt nạt...   \n",
       "\n",
       "                                             Content  \n",
       "0  Câu 1: Một cậu bé 7 tuổi đứng từ cửa sổ tầng 6...  \n",
       "1  Ngày 22/4, tòa án ở Singapore tuyên phạt một g...  \n",
       "2  Tại hội nghị phản biện Luật Giáo dục (sửa đổi)...  \n",
       "3  Chris Piland, sống ở bang Pennsylvania, Mỹ phẫ...  \n",
       "4  Nạn bắt nạt gây ảnh hưởng tiêu cực đến cuộc số...  "
      ]
     },
     "execution_count": 6,
     "metadata": {},
     "output_type": "execute_result"
    }
   ],
   "source": [
    "df1.head()"
   ]
  },
  {
   "cell_type": "markdown",
   "metadata": {},
   "source": [
    "**_BƯỚC 01: TIỀN XỬ LÍ DỮ LIỆU_**"
   ]
  },
  {
   "cell_type": "code",
   "execution_count": 21,
   "metadata": {},
   "outputs": [
    {
     "data": {
      "text/html": [
       "<div>\n",
       "<style scoped>\n",
       "    .dataframe tbody tr th:only-of-type {\n",
       "        vertical-align: middle;\n",
       "    }\n",
       "\n",
       "    .dataframe tbody tr th {\n",
       "        vertical-align: top;\n",
       "    }\n",
       "\n",
       "    .dataframe thead th {\n",
       "        text-align: right;\n",
       "    }\n",
       "</style>\n",
       "<table border=\"1\" class=\"dataframe\">\n",
       "  <thead>\n",
       "    <tr style=\"text-align: right;\">\n",
       "      <th></th>\n",
       "      <th>Link</th>\n",
       "      <th>Topic</th>\n",
       "      <th>Title</th>\n",
       "      <th>Content</th>\n",
       "    </tr>\n",
       "  </thead>\n",
       "  <tbody>\n",
       "    <tr>\n",
       "      <td>0</td>\n",
       "      <td>https://vnexpress.net/giao-duc/bon-cau-do-do-k...</td>\n",
       "      <td>Giáo dục</td>\n",
       "      <td>Bốn câu đố đo khả năng phản xạ</td>\n",
       "      <td>Câu 1: Một cậu bé 7 tuổi đứng từ cửa sổ tầng 6...</td>\n",
       "    </tr>\n",
       "    <tr>\n",
       "      <td>1</td>\n",
       "      <td>https://vnexpress.net/giao-duc/thay-giao-singa...</td>\n",
       "      <td>Giáo dục</td>\n",
       "      <td>Thầy giáo Singapore đi tù vì ấu dâm học sinh</td>\n",
       "      <td>Ngày 22/4, tòa án ở Singapore tuyên phạt một g...</td>\n",
       "    </tr>\n",
       "    <tr>\n",
       "      <td>2</td>\n",
       "      <td>https://vnexpress.net/giao-duc/de-xuat-giao-du...</td>\n",
       "      <td>Giáo dục</td>\n",
       "      <td>Đề xuất giáo dục phổ thông trong 11 năm</td>\n",
       "      <td>Tại hội nghị phản biện Luật Giáo dục (sửa đổi)...</td>\n",
       "    </tr>\n",
       "    <tr>\n",
       "      <td>3</td>\n",
       "      <td>https://vnexpress.net/giao-duc/phu-huynh-my-ke...</td>\n",
       "      <td>Giáo dục</td>\n",
       "      <td>Phụ huynh Mỹ kêu gọi sa thải giáo viên vì phê ...</td>\n",
       "      <td>Chris Piland, sống ở bang Pennsylvania, Mỹ phẫ...</td>\n",
       "    </tr>\n",
       "    <tr>\n",
       "      <td>4</td>\n",
       "      <td>https://vnexpress.net/giao-duc/ngoi-truong-dan...</td>\n",
       "      <td>Giáo dục</td>\n",
       "      <td>Ngôi trường dành riêng cho học sinh bị bắt nạt...</td>\n",
       "      <td>Nạn bắt nạt gây ảnh hưởng tiêu cực đến cuộc số...</td>\n",
       "    </tr>\n",
       "  </tbody>\n",
       "</table>\n",
       "</div>"
      ],
      "text/plain": [
       "                                                Link     Topic  \\\n",
       "0  https://vnexpress.net/giao-duc/bon-cau-do-do-k...  Giáo dục   \n",
       "1  https://vnexpress.net/giao-duc/thay-giao-singa...  Giáo dục   \n",
       "2  https://vnexpress.net/giao-duc/de-xuat-giao-du...  Giáo dục   \n",
       "3  https://vnexpress.net/giao-duc/phu-huynh-my-ke...  Giáo dục   \n",
       "4  https://vnexpress.net/giao-duc/ngoi-truong-dan...  Giáo dục   \n",
       "\n",
       "                                               Title  \\\n",
       "0                     Bốn câu đố đo khả năng phản xạ   \n",
       "1       Thầy giáo Singapore đi tù vì ấu dâm học sinh   \n",
       "2            Đề xuất giáo dục phổ thông trong 11 năm   \n",
       "3  Phụ huynh Mỹ kêu gọi sa thải giáo viên vì phê ...   \n",
       "4  Ngôi trường dành riêng cho học sinh bị bắt nạt...   \n",
       "\n",
       "                                             Content  \n",
       "0  Câu 1: Một cậu bé 7 tuổi đứng từ cửa sổ tầng 6...  \n",
       "1  Ngày 22/4, tòa án ở Singapore tuyên phạt một g...  \n",
       "2  Tại hội nghị phản biện Luật Giáo dục (sửa đổi)...  \n",
       "3  Chris Piland, sống ở bang Pennsylvania, Mỹ phẫ...  \n",
       "4  Nạn bắt nạt gây ảnh hưởng tiêu cực đến cuộc số...  "
      ]
     },
     "execution_count": 21,
     "metadata": {},
     "output_type": "execute_result"
    }
   ],
   "source": [
    "df = df1.copy()\n",
    "\n",
    "df.drop(df[df['Content'].str.len() <= 50].index, inplace = True) # xóa các dòng có len(Content) <= 50 \n",
    "df = df.drop_duplicates(subset=None,keep=\"first\")\n",
    "\n",
    "df.head()"
   ]
  },
  {
   "cell_type": "code",
   "execution_count": 8,
   "metadata": {},
   "outputs": [
    {
     "data": {
      "text/html": [
       "<div>\n",
       "<style scoped>\n",
       "    .dataframe tbody tr th:only-of-type {\n",
       "        vertical-align: middle;\n",
       "    }\n",
       "\n",
       "    .dataframe tbody tr th {\n",
       "        vertical-align: top;\n",
       "    }\n",
       "\n",
       "    .dataframe thead th {\n",
       "        text-align: right;\n",
       "    }\n",
       "</style>\n",
       "<table border=\"1\" class=\"dataframe\">\n",
       "  <thead>\n",
       "    <tr style=\"text-align: right;\">\n",
       "      <th></th>\n",
       "      <th>Link</th>\n",
       "      <th>Topic</th>\n",
       "      <th>Title</th>\n",
       "      <th>Content</th>\n",
       "    </tr>\n",
       "  </thead>\n",
       "  <tbody>\n",
       "    <tr>\n",
       "      <td>count</td>\n",
       "      <td>138989</td>\n",
       "      <td>138989</td>\n",
       "      <td>138989</td>\n",
       "      <td>129106</td>\n",
       "    </tr>\n",
       "    <tr>\n",
       "      <td>unique</td>\n",
       "      <td>138988</td>\n",
       "      <td>5</td>\n",
       "      <td>131247</td>\n",
       "      <td>122403</td>\n",
       "    </tr>\n",
       "    <tr>\n",
       "      <td>top</td>\n",
       "      <td>https://vnexpress.net/giao-duc/bon-thoi-quen-g...</td>\n",
       "      <td>Pháp luật</td>\n",
       "      <td>Độc giả nhận sách</td>\n",
       "      <td>Từ ngày 8/8 đến 16/10, Báo VnExpress phối hợp ...</td>\n",
       "    </tr>\n",
       "    <tr>\n",
       "      <td>freq</td>\n",
       "      <td>2</td>\n",
       "      <td>32219</td>\n",
       "      <td>113</td>\n",
       "      <td>202</td>\n",
       "    </tr>\n",
       "  </tbody>\n",
       "</table>\n",
       "</div>"
      ],
      "text/plain": [
       "                                                     Link      Topic  \\\n",
       "count                                              138989     138989   \n",
       "unique                                             138988          5   \n",
       "top     https://vnexpress.net/giao-duc/bon-thoi-quen-g...  Pháp luật   \n",
       "freq                                                    2      32219   \n",
       "\n",
       "                    Title                                            Content  \n",
       "count              138989                                             129106  \n",
       "unique             131247                                             122403  \n",
       "top     Độc giả nhận sách  Từ ngày 8/8 đến 16/10, Báo VnExpress phối hợp ...  \n",
       "freq                  113                                                202  "
      ]
     },
     "execution_count": 8,
     "metadata": {},
     "output_type": "execute_result"
    }
   ],
   "source": [
    "df.describe(include = \"all\")"
   ]
  },
  {
   "cell_type": "code",
   "execution_count": 9,
   "metadata": {},
   "outputs": [
    {
     "name": "stdout",
     "output_type": "stream",
     "text": [
      "9883\n"
     ]
    },
    {
     "data": {
      "text/html": [
       "<div>\n",
       "<style scoped>\n",
       "    .dataframe tbody tr th:only-of-type {\n",
       "        vertical-align: middle;\n",
       "    }\n",
       "\n",
       "    .dataframe tbody tr th {\n",
       "        vertical-align: top;\n",
       "    }\n",
       "\n",
       "    .dataframe thead th {\n",
       "        text-align: right;\n",
       "    }\n",
       "</style>\n",
       "<table border=\"1\" class=\"dataframe\">\n",
       "  <thead>\n",
       "    <tr style=\"text-align: right;\">\n",
       "      <th></th>\n",
       "      <th>Link</th>\n",
       "      <th>Topic</th>\n",
       "      <th>Title</th>\n",
       "      <th>Content</th>\n",
       "    </tr>\n",
       "  </thead>\n",
       "  <tbody>\n",
       "    <tr>\n",
       "      <td>150717</td>\n",
       "      <td>https://vnexpress.net/phap-luat/toi-ac-cua-zod...</td>\n",
       "      <td>Pháp luật</td>\n",
       "      <td>Tội ác của Zodiac (phần IV)</td>\n",
       "      <td>Vào lúc 3 giờ chiều, 3 người phụ nữ trẻ từ Ang...</td>\n",
       "    </tr>\n",
       "    <tr>\n",
       "      <td>150718</td>\n",
       "      <td>https://vnexpress.net/phap-luat/triet-pha-bang...</td>\n",
       "      <td>Pháp luật</td>\n",
       "      <td>Triệt phá băng nhóm bảo kê tại trung tâm TP HCM</td>\n",
       "      <td>Bốn tên bị bắt là Đặng Thiên Ân, 38 tuổi; Cao ...</td>\n",
       "    </tr>\n",
       "    <tr>\n",
       "      <td>150719</td>\n",
       "      <td>https://vnexpress.net/phap-luat/pha-diem-mua-b...</td>\n",
       "      <td>Pháp luật</td>\n",
       "      <td>Phá điểm mua bán dâm cho khách nước ngoài</td>\n",
       "      <td>Tại cơ quan công an, số gái mại dâm bị bắt kha...</td>\n",
       "    </tr>\n",
       "    <tr>\n",
       "      <td>150720</td>\n",
       "      <td>https://vnexpress.net/phap-luat/khoi-to-vu-chi...</td>\n",
       "      <td>Pháp luật</td>\n",
       "      <td>Khởi tố vụ chiếm đoạt 7,5 tỷ tiền hoàn thuế VAT</td>\n",
       "      <td>Trong số 4 người bị bắt tạm giam và khởi tố về...</td>\n",
       "    </tr>\n",
       "    <tr>\n",
       "      <td>150721</td>\n",
       "      <td>https://vnexpress.net/phap-luat/dinh-chi-cong-...</td>\n",
       "      <td>Pháp luật</td>\n",
       "      <td>Đình chỉ công tác Viện trưởng VKSND quận 1</td>\n",
       "      <td>Lai Út từng bị TAND TP HCM kết án 17 năm tù về...</td>\n",
       "    </tr>\n",
       "  </tbody>\n",
       "</table>\n",
       "</div>"
      ],
      "text/plain": [
       "                                                     Link      Topic  \\\n",
       "150717  https://vnexpress.net/phap-luat/toi-ac-cua-zod...  Pháp luật   \n",
       "150718  https://vnexpress.net/phap-luat/triet-pha-bang...  Pháp luật   \n",
       "150719  https://vnexpress.net/phap-luat/pha-diem-mua-b...  Pháp luật   \n",
       "150720  https://vnexpress.net/phap-luat/khoi-to-vu-chi...  Pháp luật   \n",
       "150721  https://vnexpress.net/phap-luat/dinh-chi-cong-...  Pháp luật   \n",
       "\n",
       "                                                  Title  \\\n",
       "150717                      Tội ác của Zodiac (phần IV)   \n",
       "150718  Triệt phá băng nhóm bảo kê tại trung tâm TP HCM   \n",
       "150719        Phá điểm mua bán dâm cho khách nước ngoài   \n",
       "150720  Khởi tố vụ chiếm đoạt 7,5 tỷ tiền hoàn thuế VAT   \n",
       "150721       Đình chỉ công tác Viện trưởng VKSND quận 1   \n",
       "\n",
       "                                                  Content  \n",
       "150717  Vào lúc 3 giờ chiều, 3 người phụ nữ trẻ từ Ang...  \n",
       "150718  Bốn tên bị bắt là Đặng Thiên Ân, 38 tuổi; Cao ...  \n",
       "150719  Tại cơ quan công an, số gái mại dâm bị bắt kha...  \n",
       "150720  Trong số 4 người bị bắt tạm giam và khởi tố về...  \n",
       "150721  Lai Út từng bị TAND TP HCM kết án 17 năm tù về...  "
      ]
     },
     "execution_count": 9,
     "metadata": {},
     "output_type": "execute_result"
    }
   ],
   "source": [
    "# Tổng các dòng thiếu giá trị \n",
    "print(df.isnull().sum().sum())\n",
    "df.tail()"
   ]
  },
  {
   "cell_type": "code",
   "execution_count": 20,
   "metadata": {},
   "outputs": [
    {
     "name": "stdout",
     "output_type": "stream",
     "text": [
      "138989\n"
     ]
    },
    {
     "data": {
      "text/html": [
       "<div>\n",
       "<style scoped>\n",
       "    .dataframe tbody tr th:only-of-type {\n",
       "        vertical-align: middle;\n",
       "    }\n",
       "\n",
       "    .dataframe tbody tr th {\n",
       "        vertical-align: top;\n",
       "    }\n",
       "\n",
       "    .dataframe thead th {\n",
       "        text-align: right;\n",
       "    }\n",
       "</style>\n",
       "<table border=\"1\" class=\"dataframe\">\n",
       "  <thead>\n",
       "    <tr style=\"text-align: right;\">\n",
       "      <th></th>\n",
       "      <th>Link</th>\n",
       "      <th>Title</th>\n",
       "      <th>Content</th>\n",
       "    </tr>\n",
       "    <tr>\n",
       "      <th>Topic</th>\n",
       "      <th></th>\n",
       "      <th></th>\n",
       "      <th></th>\n",
       "    </tr>\n",
       "  </thead>\n",
       "  <tbody>\n",
       "    <tr>\n",
       "      <td>Giáo dục</td>\n",
       "      <td>24200</td>\n",
       "      <td>24200</td>\n",
       "      <td>21543</td>\n",
       "    </tr>\n",
       "    <tr>\n",
       "      <td>Khoa học</td>\n",
       "      <td>23100</td>\n",
       "      <td>23100</td>\n",
       "      <td>19940</td>\n",
       "    </tr>\n",
       "    <tr>\n",
       "      <td>Pháp luật</td>\n",
       "      <td>32219</td>\n",
       "      <td>32219</td>\n",
       "      <td>31515</td>\n",
       "    </tr>\n",
       "    <tr>\n",
       "      <td>Thế giới</td>\n",
       "      <td>32054</td>\n",
       "      <td>32054</td>\n",
       "      <td>29987</td>\n",
       "    </tr>\n",
       "    <tr>\n",
       "      <td>Thời sự</td>\n",
       "      <td>27416</td>\n",
       "      <td>27416</td>\n",
       "      <td>26121</td>\n",
       "    </tr>\n",
       "  </tbody>\n",
       "</table>\n",
       "</div>"
      ],
      "text/plain": [
       "            Link  Title  Content\n",
       "Topic                           \n",
       "Giáo dục   24200  24200    21543\n",
       "Khoa học   23100  23100    19940\n",
       "Pháp luật  32219  32219    31515\n",
       "Thế giới   32054  32054    29987\n",
       "Thời sự    27416  27416    26121"
      ]
     },
     "execution_count": 20,
     "metadata": {},
     "output_type": "execute_result"
    }
   ],
   "source": [
    "# Tổng số bài báo lấy được từ data thô\n",
    "print(len(df))\n",
    "\n",
    "# Số lượng các thể loại bài báo \n",
    "s = df.groupby(['Topic']).count()\n",
    "s"
   ]
  },
  {
   "cell_type": "code",
   "execution_count": 10,
   "metadata": {},
   "outputs": [],
   "source": [
    "# Tách thành 1 series là y và dataFrame X\n",
    "y_sr = df[\"Topic\"] \n",
    "X_df = df.drop(\"Topic\", axis=1)"
   ]
  },
  {
   "cell_type": "code",
   "execution_count": 11,
   "metadata": {},
   "outputs": [],
   "source": [
    "# Tách tập train, tập validation, tập test theo tỉ lệ 6:2:2\n",
    "train_X_df, test_X_df, train_y_sr, test_y_sr = train_test_split(X_df, y_sr, test_size=0.2, stratify = y_sr, random_state=0)"
   ]
  },
  {
   "cell_type": "code",
   "execution_count": 12,
   "metadata": {},
   "outputs": [],
   "source": [
    "# Tách tập train, tập validation, tập test theo tỉ lệ 6:2:2\n",
    "X_train, val_X_df, y_train, val_y_sr = train_test_split(train_X_df,train_y_sr, stratify = train_y_sr, random_state=0)"
   ]
  },
  {
   "cell_type": "code",
   "execution_count": 13,
   "metadata": {},
   "outputs": [],
   "source": [
    "train_X_df['y'] = train_y_sr\n",
    "val_X_df['y'] = val_y_sr\n",
    "test_X_df['y'] = test_y_sr"
   ]
  },
  {
   "cell_type": "code",
   "execution_count": 14,
   "metadata": {},
   "outputs": [],
   "source": [
    "#train_X_df.to_csv(\"train.csv\", sep = \"\\t\", index = None)\n",
    "#val_X_df.to_csv(\"val.csv\", sep = \"\\t\", index = None)\n",
    "#test_X_df.to_csv(\"test.csv\", sep = \"\\t\", index = None)"
   ]
  },
  {
   "cell_type": "code",
   "execution_count": 38,
   "metadata": {},
   "outputs": [
    {
     "data": {
      "text/html": [
       "<div>\n",
       "<style scoped>\n",
       "    .dataframe tbody tr th:only-of-type {\n",
       "        vertical-align: middle;\n",
       "    }\n",
       "\n",
       "    .dataframe tbody tr th {\n",
       "        vertical-align: top;\n",
       "    }\n",
       "\n",
       "    .dataframe thead th {\n",
       "        text-align: right;\n",
       "    }\n",
       "</style>\n",
       "<table border=\"1\" class=\"dataframe\">\n",
       "  <thead>\n",
       "    <tr style=\"text-align: right;\">\n",
       "      <th></th>\n",
       "      <th>Link</th>\n",
       "      <th>Title</th>\n",
       "      <th>Content</th>\n",
       "      <th>y</th>\n",
       "    </tr>\n",
       "  </thead>\n",
       "  <tbody>\n",
       "    <tr>\n",
       "      <td>count</td>\n",
       "      <td>111191</td>\n",
       "      <td>111191</td>\n",
       "      <td>103288</td>\n",
       "      <td>111191</td>\n",
       "    </tr>\n",
       "    <tr>\n",
       "      <td>unique</td>\n",
       "      <td>111191</td>\n",
       "      <td>106102</td>\n",
       "      <td>98890</td>\n",
       "      <td>5</td>\n",
       "    </tr>\n",
       "    <tr>\n",
       "      <td>top</td>\n",
       "      <td>https://vnexpress.net/the-gioi/hanh-vi-hai-mat...</td>\n",
       "      <td>Độc giả nhận sách</td>\n",
       "      <td>Từ ngày 8/8 đến 16/10, Báo VnExpress phối hợp ...</td>\n",
       "      <td>Pháp luật</td>\n",
       "    </tr>\n",
       "    <tr>\n",
       "      <td>freq</td>\n",
       "      <td>1</td>\n",
       "      <td>90</td>\n",
       "      <td>165</td>\n",
       "      <td>25775</td>\n",
       "    </tr>\n",
       "  </tbody>\n",
       "</table>\n",
       "</div>"
      ],
      "text/plain": [
       "                                                     Link              Title  \\\n",
       "count                                              111191             111191   \n",
       "unique                                             111191             106102   \n",
       "top     https://vnexpress.net/the-gioi/hanh-vi-hai-mat...  Độc giả nhận sách   \n",
       "freq                                                    1                 90   \n",
       "\n",
       "                                                  Content          y  \n",
       "count                                              103288     111191  \n",
       "unique                                              98890          5  \n",
       "top     Từ ngày 8/8 đến 16/10, Báo VnExpress phối hợp ...  Pháp luật  \n",
       "freq                                                  165      25775  "
      ]
     },
     "execution_count": 38,
     "metadata": {},
     "output_type": "execute_result"
    }
   ],
   "source": [
    "# XEM DỮ LIỆU TẬP TRAIN\n",
    "train_X_df.describe()"
   ]
  },
  {
   "cell_type": "code",
   "execution_count": 16,
   "metadata": {},
   "outputs": [
    {
     "data": {
      "text/html": [
       "<div>\n",
       "<style scoped>\n",
       "    .dataframe tbody tr th:only-of-type {\n",
       "        vertical-align: middle;\n",
       "    }\n",
       "\n",
       "    .dataframe tbody tr th {\n",
       "        vertical-align: top;\n",
       "    }\n",
       "\n",
       "    .dataframe thead th {\n",
       "        text-align: right;\n",
       "    }\n",
       "</style>\n",
       "<table border=\"1\" class=\"dataframe\">\n",
       "  <thead>\n",
       "    <tr style=\"text-align: right;\">\n",
       "      <th></th>\n",
       "      <th>Link</th>\n",
       "      <th>Title</th>\n",
       "      <th>Content</th>\n",
       "      <th>y</th>\n",
       "    </tr>\n",
       "  </thead>\n",
       "  <tbody>\n",
       "    <tr>\n",
       "      <td>count</td>\n",
       "      <td>27798</td>\n",
       "      <td>27798</td>\n",
       "      <td>25778</td>\n",
       "      <td>27798</td>\n",
       "    </tr>\n",
       "    <tr>\n",
       "      <td>unique</td>\n",
       "      <td>27798</td>\n",
       "      <td>27448</td>\n",
       "      <td>25494</td>\n",
       "      <td>5</td>\n",
       "    </tr>\n",
       "    <tr>\n",
       "      <td>top</td>\n",
       "      <td>https://vnexpress.net/phap-luat/dap-vo-bat-tin...</td>\n",
       "      <td>Độc giả nhận sách</td>\n",
       "      <td>Từ ngày 8/8 đến 16/10, Báo VnExpress phối hợp ...</td>\n",
       "      <td>Pháp luật</td>\n",
       "    </tr>\n",
       "    <tr>\n",
       "      <td>freq</td>\n",
       "      <td>1</td>\n",
       "      <td>28</td>\n",
       "      <td>34</td>\n",
       "      <td>6444</td>\n",
       "    </tr>\n",
       "  </tbody>\n",
       "</table>\n",
       "</div>"
      ],
      "text/plain": [
       "                                                     Link              Title  \\\n",
       "count                                               27798              27798   \n",
       "unique                                              27798              27448   \n",
       "top     https://vnexpress.net/phap-luat/dap-vo-bat-tin...  Độc giả nhận sách   \n",
       "freq                                                    1                 28   \n",
       "\n",
       "                                                  Content          y  \n",
       "count                                               25778      27798  \n",
       "unique                                              25494          5  \n",
       "top     Từ ngày 8/8 đến 16/10, Báo VnExpress phối hợp ...  Pháp luật  \n",
       "freq                                                   34       6444  "
      ]
     },
     "execution_count": 16,
     "metadata": {},
     "output_type": "execute_result"
    }
   ],
   "source": [
    "# XEM DỮ LIỆU TẬP VALIDATION\n",
    "val_X_df.describe()"
   ]
  },
  {
   "cell_type": "code",
   "execution_count": 17,
   "metadata": {},
   "outputs": [
    {
     "data": {
      "text/html": [
       "<div>\n",
       "<style scoped>\n",
       "    .dataframe tbody tr th:only-of-type {\n",
       "        vertical-align: middle;\n",
       "    }\n",
       "\n",
       "    .dataframe tbody tr th {\n",
       "        vertical-align: top;\n",
       "    }\n",
       "\n",
       "    .dataframe thead th {\n",
       "        text-align: right;\n",
       "    }\n",
       "</style>\n",
       "<table border=\"1\" class=\"dataframe\">\n",
       "  <thead>\n",
       "    <tr style=\"text-align: right;\">\n",
       "      <th></th>\n",
       "      <th>Link</th>\n",
       "      <th>Title</th>\n",
       "      <th>Content</th>\n",
       "      <th>y</th>\n",
       "    </tr>\n",
       "  </thead>\n",
       "  <tbody>\n",
       "    <tr>\n",
       "      <td>count</td>\n",
       "      <td>27798</td>\n",
       "      <td>27798</td>\n",
       "      <td>25818</td>\n",
       "      <td>27798</td>\n",
       "    </tr>\n",
       "    <tr>\n",
       "      <td>unique</td>\n",
       "      <td>27798</td>\n",
       "      <td>27442</td>\n",
       "      <td>25510</td>\n",
       "      <td>5</td>\n",
       "    </tr>\n",
       "    <tr>\n",
       "      <td>top</td>\n",
       "      <td>https://vnexpress.net/thoi-su/du-an-nghi-duong...</td>\n",
       "      <td>Độc giả nhận sách</td>\n",
       "      <td>Từ ngày 8/8 đến 16/10, Báo VnExpress phối hợp ...</td>\n",
       "      <td>Pháp luật</td>\n",
       "    </tr>\n",
       "    <tr>\n",
       "      <td>freq</td>\n",
       "      <td>1</td>\n",
       "      <td>23</td>\n",
       "      <td>37</td>\n",
       "      <td>6444</td>\n",
       "    </tr>\n",
       "  </tbody>\n",
       "</table>\n",
       "</div>"
      ],
      "text/plain": [
       "                                                     Link              Title  \\\n",
       "count                                               27798              27798   \n",
       "unique                                              27798              27442   \n",
       "top     https://vnexpress.net/thoi-su/du-an-nghi-duong...  Độc giả nhận sách   \n",
       "freq                                                    1                 23   \n",
       "\n",
       "                                                  Content          y  \n",
       "count                                               25818      27798  \n",
       "unique                                              25510          5  \n",
       "top     Từ ngày 8/8 đến 16/10, Báo VnExpress phối hợp ...  Pháp luật  \n",
       "freq                                                   37       6444  "
      ]
     },
     "execution_count": 17,
     "metadata": {},
     "output_type": "execute_result"
    }
   ],
   "source": [
    "# XEM DỮ LIỆU TẬP TEST\n",
    "test_X_df.describe()"
   ]
  },
  {
   "cell_type": "code",
   "execution_count": 40,
   "metadata": {},
   "outputs": [],
   "source": [
    "def Fill_Na(dff):\n",
    "    df = dff.copy()\n",
    "    \n",
    "    df = df.drop(columns=['Link']) # not necessary for predicting\n",
    "    df[\"Title\"] = df[\"Title\"].fillna(\"other_title\")\n",
    "    df[\"Content\"] = df[\"Content\"].fillna(\"other_content\")\n",
    "    \n",
    "    return df"
   ]
  },
  {
   "cell_type": "code",
   "execution_count": 41,
   "metadata": {},
   "outputs": [],
   "source": [
    "train = Fill_Na(train_X_df)"
   ]
  },
  {
   "cell_type": "code",
   "execution_count": 45,
   "metadata": {},
   "outputs": [
    {
     "data": {
      "text/html": [
       "<div>\n",
       "<style scoped>\n",
       "    .dataframe tbody tr th:only-of-type {\n",
       "        vertical-align: middle;\n",
       "    }\n",
       "\n",
       "    .dataframe tbody tr th {\n",
       "        vertical-align: top;\n",
       "    }\n",
       "\n",
       "    .dataframe thead th {\n",
       "        text-align: right;\n",
       "    }\n",
       "</style>\n",
       "<table border=\"1\" class=\"dataframe\">\n",
       "  <thead>\n",
       "    <tr style=\"text-align: right;\">\n",
       "      <th></th>\n",
       "      <th>Title</th>\n",
       "      <th>Content</th>\n",
       "      <th>y</th>\n",
       "    </tr>\n",
       "  </thead>\n",
       "  <tbody>\n",
       "    <tr>\n",
       "      <td>count</td>\n",
       "      <td>111191</td>\n",
       "      <td>111191</td>\n",
       "      <td>111191</td>\n",
       "    </tr>\n",
       "    <tr>\n",
       "      <td>unique</td>\n",
       "      <td>106102</td>\n",
       "      <td>98891</td>\n",
       "      <td>5</td>\n",
       "    </tr>\n",
       "    <tr>\n",
       "      <td>top</td>\n",
       "      <td>Độc giả nhận sách</td>\n",
       "      <td>other_content</td>\n",
       "      <td>Pháp luật</td>\n",
       "    </tr>\n",
       "    <tr>\n",
       "      <td>freq</td>\n",
       "      <td>90</td>\n",
       "      <td>7903</td>\n",
       "      <td>25775</td>\n",
       "    </tr>\n",
       "  </tbody>\n",
       "</table>\n",
       "</div>"
      ],
      "text/plain": [
       "                    Title        Content          y\n",
       "count              111191         111191     111191\n",
       "unique             106102          98891          5\n",
       "top     Độc giả nhận sách  other_content  Pháp luật\n",
       "freq                   90           7903      25775"
      ]
     },
     "execution_count": 45,
     "metadata": {},
     "output_type": "execute_result"
    }
   ],
   "source": [
    "train.describe()"
   ]
  },
  {
   "cell_type": "code",
   "execution_count": null,
   "metadata": {},
   "outputs": [],
   "source": []
  },
  {
   "cell_type": "code",
   "execution_count": null,
   "metadata": {},
   "outputs": [],
   "source": []
  },
  {
   "cell_type": "code",
   "execution_count": null,
   "metadata": {},
   "outputs": [],
   "source": []
  },
  {
   "cell_type": "code",
   "execution_count": null,
   "metadata": {},
   "outputs": [],
   "source": []
  },
  {
   "cell_type": "code",
   "execution_count": null,
   "metadata": {},
   "outputs": [],
   "source": []
  },
  {
   "cell_type": "code",
   "execution_count": null,
   "metadata": {},
   "outputs": [],
   "source": []
  },
  {
   "cell_type": "code",
   "execution_count": null,
   "metadata": {},
   "outputs": [],
   "source": []
  }
 ],
 "metadata": {
  "kernelspec": {
   "display_name": "Python 3",
   "language": "python",
   "name": "python3"
  },
  "language_info": {
   "codemirror_mode": {
    "name": "ipython",
    "version": 3
   },
   "file_extension": ".py",
   "mimetype": "text/x-python",
   "name": "python",
   "nbconvert_exporter": "python",
   "pygments_lexer": "ipython3",
   "version": "3.7.4"
  }
 },
 "nbformat": 4,
 "nbformat_minor": 4
}
