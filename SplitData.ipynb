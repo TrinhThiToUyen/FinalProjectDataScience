{
 "cells": [
  {
   "cell_type": "code",
   "execution_count": 1,
   "metadata": {},
   "outputs": [],
   "source": [
    "import warnings\n",
    "warnings.filterwarnings(\"ignore\")\n",
    "\n",
    "%matplotlib inline\n",
    "import matplotlib.pyplot as plt\n",
    "import seaborn as sns \n",
    "import pandas as pd\n",
    "import numpy as np\n",
    "\n",
    "from sklearn.model_selection import train_test_split"
   ]
  },
  {
   "cell_type": "code",
   "execution_count": 2,
   "metadata": {},
   "outputs": [
    {
     "data": {
      "text/plain": [
       "'0.21.3'"
      ]
     },
     "execution_count": 2,
     "metadata": {},
     "output_type": "execute_result"
    }
   ],
   "source": [
    "import sklearn\n",
    "sklearn.__version__"
   ]
  },
  {
   "cell_type": "code",
   "execution_count": 3,
   "metadata": {},
   "outputs": [],
   "source": [
    "df1 = pd.read_csv(\"data.txt\", sep = \"\\t\", encoding = \"utf-8\", header = None)\n",
    "df1.columns = ['Link', 'Topic','Title', 'Content']"
   ]
  },
  {
   "cell_type": "code",
   "execution_count": 4,
   "metadata": {},
   "outputs": [
    {
     "data": {
      "text/html": [
       "<div>\n",
       "<style scoped>\n",
       "    .dataframe tbody tr th:only-of-type {\n",
       "        vertical-align: middle;\n",
       "    }\n",
       "\n",
       "    .dataframe tbody tr th {\n",
       "        vertical-align: top;\n",
       "    }\n",
       "\n",
       "    .dataframe thead th {\n",
       "        text-align: right;\n",
       "    }\n",
       "</style>\n",
       "<table border=\"1\" class=\"dataframe\">\n",
       "  <thead>\n",
       "    <tr style=\"text-align: right;\">\n",
       "      <th></th>\n",
       "      <th>Link</th>\n",
       "      <th>Topic</th>\n",
       "      <th>Title</th>\n",
       "      <th>Content</th>\n",
       "    </tr>\n",
       "  </thead>\n",
       "  <tbody>\n",
       "    <tr>\n",
       "      <td>count</td>\n",
       "      <td>151488</td>\n",
       "      <td>151487</td>\n",
       "      <td>151487</td>\n",
       "      <td>140813</td>\n",
       "    </tr>\n",
       "    <tr>\n",
       "      <td>unique</td>\n",
       "      <td>145259</td>\n",
       "      <td>5</td>\n",
       "      <td>137060</td>\n",
       "      <td>124129</td>\n",
       "    </tr>\n",
       "    <tr>\n",
       "      <td>top</td>\n",
       "      <td>https://vnexpress.net/khoa-hoc/tuong-lac-da-ba...</td>\n",
       "      <td>Thế giới</td>\n",
       "      <td>Năm câu đố tìm điểm bất hợp lý</td>\n",
       "      <td>Mời độc giả đặt câu hỏi tại đây.</td>\n",
       "    </tr>\n",
       "    <tr>\n",
       "      <td>freq</td>\n",
       "      <td>140</td>\n",
       "      <td>32806</td>\n",
       "      <td>141</td>\n",
       "      <td>595</td>\n",
       "    </tr>\n",
       "  </tbody>\n",
       "</table>\n",
       "</div>"
      ],
      "text/plain": [
       "                                                     Link     Topic  \\\n",
       "count                                              151488    151487   \n",
       "unique                                             145259         5   \n",
       "top     https://vnexpress.net/khoa-hoc/tuong-lac-da-ba...  Thế giới   \n",
       "freq                                                  140     32806   \n",
       "\n",
       "                                 Title                           Content  \n",
       "count                           151487                            140813  \n",
       "unique                          137060                            124129  \n",
       "top     Năm câu đố tìm điểm bất hợp lý  Mời độc giả đặt câu hỏi tại đây.  \n",
       "freq                               141                               595  "
      ]
     },
     "execution_count": 4,
     "metadata": {},
     "output_type": "execute_result"
    }
   ],
   "source": [
    "df1.describe()"
   ]
  },
  {
   "cell_type": "code",
   "execution_count": 5,
   "metadata": {},
   "outputs": [
    {
     "name": "stdout",
     "output_type": "stream",
     "text": [
      "<class 'pandas.core.frame.DataFrame'>\n",
      "RangeIndex: 151488 entries, 0 to 151487\n",
      "Data columns (total 4 columns):\n",
      "Link       151488 non-null object\n",
      "Topic      151487 non-null object\n",
      "Title      151487 non-null object\n",
      "Content    140813 non-null object\n",
      "dtypes: object(4)\n",
      "memory usage: 4.6+ MB\n"
     ]
    }
   ],
   "source": [
    "df1.info()"
   ]
  },
  {
   "cell_type": "code",
   "execution_count": 6,
   "metadata": {},
   "outputs": [
    {
     "data": {
      "text/html": [
       "<div>\n",
       "<style scoped>\n",
       "    .dataframe tbody tr th:only-of-type {\n",
       "        vertical-align: middle;\n",
       "    }\n",
       "\n",
       "    .dataframe tbody tr th {\n",
       "        vertical-align: top;\n",
       "    }\n",
       "\n",
       "    .dataframe thead th {\n",
       "        text-align: right;\n",
       "    }\n",
       "</style>\n",
       "<table border=\"1\" class=\"dataframe\">\n",
       "  <thead>\n",
       "    <tr style=\"text-align: right;\">\n",
       "      <th></th>\n",
       "      <th>Link</th>\n",
       "      <th>Topic</th>\n",
       "      <th>Title</th>\n",
       "      <th>Content</th>\n",
       "    </tr>\n",
       "  </thead>\n",
       "  <tbody>\n",
       "    <tr>\n",
       "      <td>0</td>\n",
       "      <td>https://vnexpress.net/giao-duc/bon-cau-do-do-k...</td>\n",
       "      <td>Giáo dục</td>\n",
       "      <td>Bốn câu đố đo khả năng phản xạ</td>\n",
       "      <td>Câu 1: Một cậu bé 7 tuổi đứng từ cửa sổ tầng 6...</td>\n",
       "    </tr>\n",
       "    <tr>\n",
       "      <td>1</td>\n",
       "      <td>https://vnexpress.net/giao-duc/thay-giao-singa...</td>\n",
       "      <td>Giáo dục</td>\n",
       "      <td>Thầy giáo Singapore đi tù vì ấu dâm học sinh</td>\n",
       "      <td>Ngày 22/4, tòa án ở Singapore tuyên phạt một g...</td>\n",
       "    </tr>\n",
       "    <tr>\n",
       "      <td>2</td>\n",
       "      <td>https://vnexpress.net/giao-duc/de-xuat-giao-du...</td>\n",
       "      <td>Giáo dục</td>\n",
       "      <td>Đề xuất giáo dục phổ thông trong 11 năm</td>\n",
       "      <td>Tại hội nghị phản biện Luật Giáo dục (sửa đổi)...</td>\n",
       "    </tr>\n",
       "    <tr>\n",
       "      <td>3</td>\n",
       "      <td>https://vnexpress.net/giao-duc/phu-huynh-my-ke...</td>\n",
       "      <td>Giáo dục</td>\n",
       "      <td>Phụ huynh Mỹ kêu gọi sa thải giáo viên vì phê ...</td>\n",
       "      <td>Chris Piland, sống ở bang Pennsylvania, Mỹ phẫ...</td>\n",
       "    </tr>\n",
       "    <tr>\n",
       "      <td>4</td>\n",
       "      <td>https://vnexpress.net/giao-duc/ngoi-truong-dan...</td>\n",
       "      <td>Giáo dục</td>\n",
       "      <td>Ngôi trường dành riêng cho học sinh bị bắt nạt...</td>\n",
       "      <td>Nạn bắt nạt gây ảnh hưởng tiêu cực đến cuộc số...</td>\n",
       "    </tr>\n",
       "  </tbody>\n",
       "</table>\n",
       "</div>"
      ],
      "text/plain": [
       "                                                Link     Topic  \\\n",
       "0  https://vnexpress.net/giao-duc/bon-cau-do-do-k...  Giáo dục   \n",
       "1  https://vnexpress.net/giao-duc/thay-giao-singa...  Giáo dục   \n",
       "2  https://vnexpress.net/giao-duc/de-xuat-giao-du...  Giáo dục   \n",
       "3  https://vnexpress.net/giao-duc/phu-huynh-my-ke...  Giáo dục   \n",
       "4  https://vnexpress.net/giao-duc/ngoi-truong-dan...  Giáo dục   \n",
       "\n",
       "                                               Title  \\\n",
       "0                     Bốn câu đố đo khả năng phản xạ   \n",
       "1       Thầy giáo Singapore đi tù vì ấu dâm học sinh   \n",
       "2            Đề xuất giáo dục phổ thông trong 11 năm   \n",
       "3  Phụ huynh Mỹ kêu gọi sa thải giáo viên vì phê ...   \n",
       "4  Ngôi trường dành riêng cho học sinh bị bắt nạt...   \n",
       "\n",
       "                                             Content  \n",
       "0  Câu 1: Một cậu bé 7 tuổi đứng từ cửa sổ tầng 6...  \n",
       "1  Ngày 22/4, tòa án ở Singapore tuyên phạt một g...  \n",
       "2  Tại hội nghị phản biện Luật Giáo dục (sửa đổi)...  \n",
       "3  Chris Piland, sống ở bang Pennsylvania, Mỹ phẫ...  \n",
       "4  Nạn bắt nạt gây ảnh hưởng tiêu cực đến cuộc số...  "
      ]
     },
     "execution_count": 6,
     "metadata": {},
     "output_type": "execute_result"
    }
   ],
   "source": [
    "df1.head()"
   ]
  },
  {
   "cell_type": "code",
   "execution_count": 7,
   "metadata": {},
   "outputs": [
    {
     "data": {
      "text/plain": [
       "y\n",
       "Giáo dục     24996\n",
       "Khoa học     26722\n",
       "Pháp luật    31844\n",
       "Thế giới     30739\n",
       "Thời sự      26512\n",
       "Name: X, dtype: int64"
      ]
     },
     "execution_count": 7,
     "metadata": {},
     "output_type": "execute_result"
    },
    {
     "data": {
      "image/png": "[encoded data removed]",
      "text/plain": [
       "<Figure size 432x288 with 1 Axes>"
      ]
     },
     "metadata": {
      "needs_background": "light"
     },
     "output_type": "display_data"
    }
   ],
   "source": [
    "# XEM DỮ LIỆU TRƯỚC KHI XÓA CÁC DÒNG KHÔNG CÓ GIÁ TRỊ CONTENT\n",
    "df = df1.copy()\n",
    "\n",
    "df['X'] = df['Title'] + \". \" + df['Content']\n",
    "df['y'] = df['Topic']\n",
    "\n",
    "df.drop(['Link', 'Title', 'Content', 'Topic'], axis=1, inplace=True)\n",
    "\n",
    "s = df.groupby(\"y\")[\"X\"].count()\n",
    "s.plot.bar(rot=0)\n",
    "s"
   ]
  },
  {
   "cell_type": "markdown",
   "metadata": {},
   "source": [
    "**_BƯỚC 01: PRE-PROSESSING DATA_**"
   ]
  },
  {
   "cell_type": "code",
   "execution_count": 8,
   "metadata": {},
   "outputs": [],
   "source": [
    "df = df1.copy()\n",
    "\n",
    "df = df.dropna() # xóa các dòng có giá trị thiếu\n",
    "df = df.drop_duplicates() # Xóa các dòng có giá trị trùng \n",
    "df.drop(df[df['Content'].str.len() <= 50].index, inplace = True) # xóa các dòng có len(Content) <= 50 "
   ]
  },
  {
   "cell_type": "code",
   "execution_count": 9,
   "metadata": {},
   "outputs": [],
   "source": [
    "df['X'] = df['Title'] + \". \" + df['Content']\n",
    "df['y'] = df['Topic']\n",
    "\n",
    "df.drop(['Link', 'Title', 'Content', 'Topic'], axis=1, inplace=True)\n",
    "df = df.drop_duplicates() # Xóa các dòng có giá trị trùng "
   ]
  },
  {
   "cell_type": "code",
   "execution_count": 10,
   "metadata": {},
   "outputs": [
    {
     "data": {
      "text/html": [
       "<div>\n",
       "<style scoped>\n",
       "    .dataframe tbody tr th:only-of-type {\n",
       "        vertical-align: middle;\n",
       "    }\n",
       "\n",
       "    .dataframe tbody tr th {\n",
       "        vertical-align: top;\n",
       "    }\n",
       "\n",
       "    .dataframe thead th {\n",
       "        text-align: right;\n",
       "    }\n",
       "</style>\n",
       "<table border=\"1\" class=\"dataframe\">\n",
       "  <thead>\n",
       "    <tr style=\"text-align: right;\">\n",
       "      <th></th>\n",
       "      <th>X</th>\n",
       "      <th>y</th>\n",
       "    </tr>\n",
       "  </thead>\n",
       "  <tbody>\n",
       "    <tr>\n",
       "      <td>count</td>\n",
       "      <td>122662</td>\n",
       "      <td>122662</td>\n",
       "    </tr>\n",
       "    <tr>\n",
       "      <td>unique</td>\n",
       "      <td>122662</td>\n",
       "      <td>5</td>\n",
       "    </tr>\n",
       "    <tr>\n",
       "      <td>top</td>\n",
       "      <td>39 người chết trên container có thể do bị ngạt...</td>\n",
       "      <td>Pháp luật</td>\n",
       "    </tr>\n",
       "    <tr>\n",
       "      <td>freq</td>\n",
       "      <td>1</td>\n",
       "      <td>30369</td>\n",
       "    </tr>\n",
       "  </tbody>\n",
       "</table>\n",
       "</div>"
      ],
      "text/plain": [
       "                                                        X          y\n",
       "count                                              122662     122662\n",
       "unique                                             122662          5\n",
       "top     39 người chết trên container có thể do bị ngạt...  Pháp luật\n",
       "freq                                                    1      30369"
      ]
     },
     "execution_count": 10,
     "metadata": {},
     "output_type": "execute_result"
    }
   ],
   "source": [
    "df.describe()"
   ]
  },
  {
   "cell_type": "code",
   "execution_count": 11,
   "metadata": {},
   "outputs": [
    {
     "data": {
      "text/plain": [
       "y\n",
       "Giáo dục     20943\n",
       "Khoa học     19019\n",
       "Pháp luật    30369\n",
       "Thế giới     28744\n",
       "Thời sự      23587\n",
       "Name: X, dtype: int64"
      ]
     },
     "execution_count": 11,
     "metadata": {},
     "output_type": "execute_result"
    },
    {
     "data": {
      "image/png": "[encoded data removed]",
      "text/plain": [
       "<Figure size 432x288 with 1 Axes>"
      ]
     },
     "metadata": {
      "needs_background": "light"
     },
     "output_type": "display_data"
    }
   ],
   "source": [
    "s = df.groupby(\"y\")[\"X\"].count()\n",
    "s.plot.bar(rot=0)\n",
    "s"
   ]
  },
  {
   "cell_type": "code",
   "execution_count": 12,
   "metadata": {},
   "outputs": [],
   "source": [
    "# Tách thành 1 series là y và dataFrame X\n",
    "y_sr = df[\"y\"] \n",
    "X_df = df.drop(\"y\", axis=1)"
   ]
  },
  {
   "cell_type": "code",
   "execution_count": 13,
   "metadata": {},
   "outputs": [],
   "source": [
    "# Tách tập train, tập validation, tập test theo tỉ lệ 6:2:2\n",
    "train_X_df, test_X_df, train_y_sr, test_y_sr = train_test_split(X_df, y_sr, test_size=0.2, stratify = y_sr, random_state=0)"
   ]
  },
  {
   "cell_type": "code",
   "execution_count": 16,
   "metadata": {},
   "outputs": [],
   "source": [
    "# Tách tập train, tập validation, tập test theo tỉ lệ 6:2:2\n",
    "X_train, val_X_df, y_train, val_y_sr = train_test_split(train_X_df,train_y_sr, stratify = train_y_sr, random_state=0)"
   ]
  },
  {
   "cell_type": "code",
   "execution_count": 17,
   "metadata": {},
   "outputs": [],
   "source": [
    "train_X_df['y'] = train_y_sr\n",
    "val_X_df['y'] = val_y_sr\n",
    "test_X_df['y'] = test_y_sr"
   ]
  },
  {
   "cell_type": "code",
   "execution_count": 18,
   "metadata": {},
   "outputs": [],
   "source": [
    "train_X_df.to_csv(\"train.csv\", sep = \"\\t\", index = None)\n",
    "val_X_df.to_csv(\"val.csv\", sep = \"\\t\", index = None)\n",
    "test_X_df.to_csv(\"test.csv\", sep = \"\\t\", index = None)"
   ]
  },
  {
   "cell_type": "code",
   "execution_count": 19,
   "metadata": {},
   "outputs": [
    {
     "data": {
      "text/html": [
       "<div>\n",
       "<style scoped>\n",
       "    .dataframe tbody tr th:only-of-type {\n",
       "        vertical-align: middle;\n",
       "    }\n",
       "\n",
       "    .dataframe tbody tr th {\n",
       "        vertical-align: top;\n",
       "    }\n",
       "\n",
       "    .dataframe thead th {\n",
       "        text-align: right;\n",
       "    }\n",
       "</style>\n",
       "<table border=\"1\" class=\"dataframe\">\n",
       "  <thead>\n",
       "    <tr style=\"text-align: right;\">\n",
       "      <th></th>\n",
       "      <th>X</th>\n",
       "      <th>y</th>\n",
       "    </tr>\n",
       "  </thead>\n",
       "  <tbody>\n",
       "    <tr>\n",
       "      <td>count</td>\n",
       "      <td>98129</td>\n",
       "      <td>98129</td>\n",
       "    </tr>\n",
       "    <tr>\n",
       "      <td>unique</td>\n",
       "      <td>98129</td>\n",
       "      <td>5</td>\n",
       "    </tr>\n",
       "    <tr>\n",
       "      <td>top</td>\n",
       "      <td>Chuyên gia đọc khẩu hình hé lộ chủ đề đối thoạ...</td>\n",
       "      <td>Pháp luật</td>\n",
       "    </tr>\n",
       "    <tr>\n",
       "      <td>freq</td>\n",
       "      <td>1</td>\n",
       "      <td>24295</td>\n",
       "    </tr>\n",
       "  </tbody>\n",
       "</table>\n",
       "</div>"
      ],
      "text/plain": [
       "                                                        X          y\n",
       "count                                               98129      98129\n",
       "unique                                              98129          5\n",
       "top     Chuyên gia đọc khẩu hình hé lộ chủ đề đối thoạ...  Pháp luật\n",
       "freq                                                    1      24295"
      ]
     },
     "execution_count": 19,
     "metadata": {},
     "output_type": "execute_result"
    }
   ],
   "source": [
    "# XEM DỮ LIỆU TẬP TRAIN\n",
    "train_X_df.describe()"
   ]
  },
  {
   "cell_type": "code",
   "execution_count": 20,
   "metadata": {},
   "outputs": [
    {
     "data": {
      "text/html": [
       "<div>\n",
       "<style scoped>\n",
       "    .dataframe tbody tr th:only-of-type {\n",
       "        vertical-align: middle;\n",
       "    }\n",
       "\n",
       "    .dataframe tbody tr th {\n",
       "        vertical-align: top;\n",
       "    }\n",
       "\n",
       "    .dataframe thead th {\n",
       "        text-align: right;\n",
       "    }\n",
       "</style>\n",
       "<table border=\"1\" class=\"dataframe\">\n",
       "  <thead>\n",
       "    <tr style=\"text-align: right;\">\n",
       "      <th></th>\n",
       "      <th>X</th>\n",
       "      <th>y</th>\n",
       "    </tr>\n",
       "  </thead>\n",
       "  <tbody>\n",
       "    <tr>\n",
       "      <td>count</td>\n",
       "      <td>24533</td>\n",
       "      <td>24533</td>\n",
       "    </tr>\n",
       "    <tr>\n",
       "      <td>unique</td>\n",
       "      <td>24533</td>\n",
       "      <td>5</td>\n",
       "    </tr>\n",
       "    <tr>\n",
       "      <td>top</td>\n",
       "      <td>Chuyên gia đọc khẩu hình hé lộ chủ đề đối thoạ...</td>\n",
       "      <td>Pháp luật</td>\n",
       "    </tr>\n",
       "    <tr>\n",
       "      <td>freq</td>\n",
       "      <td>1</td>\n",
       "      <td>6074</td>\n",
       "    </tr>\n",
       "  </tbody>\n",
       "</table>\n",
       "</div>"
      ],
      "text/plain": [
       "                                                        X          y\n",
       "count                                               24533      24533\n",
       "unique                                              24533          5\n",
       "top     Chuyên gia đọc khẩu hình hé lộ chủ đề đối thoạ...  Pháp luật\n",
       "freq                                                    1       6074"
      ]
     },
     "execution_count": 20,
     "metadata": {},
     "output_type": "execute_result"
    }
   ],
   "source": [
    "# XEM DỮ LIỆU TẬP VALIDATION\n",
    "val_X_df.describe()"
   ]
  },
  {
   "cell_type": "code",
   "execution_count": 21,
   "metadata": {},
   "outputs": [
    {
     "data": {
      "text/html": [
       "<div>\n",
       "<style scoped>\n",
       "    .dataframe tbody tr th:only-of-type {\n",
       "        vertical-align: middle;\n",
       "    }\n",
       "\n",
       "    .dataframe tbody tr th {\n",
       "        vertical-align: top;\n",
       "    }\n",
       "\n",
       "    .dataframe thead th {\n",
       "        text-align: right;\n",
       "    }\n",
       "</style>\n",
       "<table border=\"1\" class=\"dataframe\">\n",
       "  <thead>\n",
       "    <tr style=\"text-align: right;\">\n",
       "      <th></th>\n",
       "      <th>X</th>\n",
       "      <th>y</th>\n",
       "    </tr>\n",
       "  </thead>\n",
       "  <tbody>\n",
       "    <tr>\n",
       "      <td>count</td>\n",
       "      <td>24533</td>\n",
       "      <td>24533</td>\n",
       "    </tr>\n",
       "    <tr>\n",
       "      <td>unique</td>\n",
       "      <td>24533</td>\n",
       "      <td>5</td>\n",
       "    </tr>\n",
       "    <tr>\n",
       "      <td>top</td>\n",
       "      <td>Hai nam sinh mất tích khi tắm biển Đà Nẵng. Kh...</td>\n",
       "      <td>Pháp luật</td>\n",
       "    </tr>\n",
       "    <tr>\n",
       "      <td>freq</td>\n",
       "      <td>1</td>\n",
       "      <td>6074</td>\n",
       "    </tr>\n",
       "  </tbody>\n",
       "</table>\n",
       "</div>"
      ],
      "text/plain": [
       "                                                        X          y\n",
       "count                                               24533      24533\n",
       "unique                                              24533          5\n",
       "top     Hai nam sinh mất tích khi tắm biển Đà Nẵng. Kh...  Pháp luật\n",
       "freq                                                    1       6074"
      ]
     },
     "execution_count": 21,
     "metadata": {},
     "output_type": "execute_result"
    }
   ],
   "source": [
    "# XEM DỮ LIỆU TẬP TEST\n",
    "test_X_df.describe()"
   ]
  },
  {
   "cell_type": "code",
   "execution_count": null,
   "metadata": {},
   "outputs": [],
   "source": []
  }
 ],
 "metadata": {
  "kernelspec": {
   "display_name": "Python 3",
   "language": "python",
   "name": "python3"
  },
  "language_info": {
   "codemirror_mode": {
    "name": "ipython",
    "version": 3
   },
   "file_extension": ".py",
   "mimetype": "text/x-python",
   "name": "python",
   "nbconvert_exporter": "python",
   "pygments_lexer": "ipython3",
   "version": "3.7.4"
  }
 },
 "nbformat": 4,
 "nbformat_minor": 4
}
