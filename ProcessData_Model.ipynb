{
 "cells": [
  {
   "cell_type": "code",
   "execution_count": 1,
   "metadata": {},
   "outputs": [],
   "source": [
    "import warnings\n",
    "warnings.filterwarnings(\"ignore\")\n",
    "\n",
    "%matplotlib inline\n",
    "import matplotlib.pyplot as plt\n",
    "import seaborn as sns \n",
    "import pandas as pd\n",
    "import numpy as np\n",
    "\n",
    "from sklearn.model_selection import train_test_split\n",
    "from sklearn.feature_extraction.text import TfidfVectorizer # TF-IDF\n",
    "from sklearn.feature_extraction.text import CountVectorizer # Bag of word\n",
    "from sklearn.model_selection import train_test_split\n",
    "from sklearn.preprocessing import OneHotEncoder, StandardScaler\n",
    "from sklearn.impute import SimpleImputer\n",
    "from sklearn.base import BaseEstimator, TransformerMixin\n",
    "from sklearn.pipeline import Pipeline, make_pipeline\n",
    "from sklearn.compose import ColumnTransformer, make_column_transformer\n",
    "from sklearn.feature_extraction.text import TfidfTransformer\n",
    "from sklearn.neural_network import MLPClassifier\n",
    "from sklearn.linear_model import SGDClassifier \n",
    "from sklearn.naive_bayes import MultinomialNB \n",
    "from sklearn.neighbors import KNeighborsClassifier\n",
    "from sklearn.ensemble import RandomForestClassifier\n",
    "from pyvi import ViTokenizer, ViPosTagger\n",
    "\n",
    "# You can also import other things ...\n",
    "# YOUR CODE HERE (OPTION)\n",
    "import re\n",
    "from sklearn import preprocessing"
   ]
  },
  {
   "cell_type": "code",
   "execution_count": 2,
   "metadata": {},
   "outputs": [
    {
     "data": {
      "text/plain": [
       "'0.21.3'"
      ]
     },
     "execution_count": 2,
     "metadata": {},
     "output_type": "execute_result"
    }
   ],
   "source": [
    "import sklearn\n",
    "sklearn.__version__"
   ]
  },
  {
   "cell_type": "code",
   "execution_count": 3,
   "metadata": {},
   "outputs": [],
   "source": [
    "df1 = pd.read_csv(\"data.txt\", sep = \"\\t\", encoding = \"utf-8\", header = None)\n",
    "df1.columns = ['Link', 'Topic','Title', 'Content']"
   ]
  },
  {
   "cell_type": "code",
   "execution_count": 4,
   "metadata": {},
   "outputs": [
    {
     "data": {
      "text/html": [
       "<div>\n",
       "<style scoped>\n",
       "    .dataframe tbody tr th:only-of-type {\n",
       "        vertical-align: middle;\n",
       "    }\n",
       "\n",
       "    .dataframe tbody tr th {\n",
       "        vertical-align: top;\n",
       "    }\n",
       "\n",
       "    .dataframe thead th {\n",
       "        text-align: right;\n",
       "    }\n",
       "</style>\n",
       "<table border=\"1\" class=\"dataframe\">\n",
       "  <thead>\n",
       "    <tr style=\"text-align: right;\">\n",
       "      <th></th>\n",
       "      <th>Link</th>\n",
       "      <th>Topic</th>\n",
       "      <th>Title</th>\n",
       "      <th>Content</th>\n",
       "    </tr>\n",
       "  </thead>\n",
       "  <tbody>\n",
       "    <tr>\n",
       "      <td>count</td>\n",
       "      <td>151487</td>\n",
       "      <td>151487</td>\n",
       "      <td>151487</td>\n",
       "      <td>140813</td>\n",
       "    </tr>\n",
       "    <tr>\n",
       "      <td>unique</td>\n",
       "      <td>145258</td>\n",
       "      <td>5</td>\n",
       "      <td>137060</td>\n",
       "      <td>124129</td>\n",
       "    </tr>\n",
       "    <tr>\n",
       "      <td>top</td>\n",
       "      <td>https://vnexpress.net/khoa-hoc/linh-duong-non-...</td>\n",
       "      <td>Thế giới</td>\n",
       "      <td>Năm câu đố tìm điểm bất hợp lý</td>\n",
       "      <td>Mời độc giả đặt câu hỏi tại đây.</td>\n",
       "    </tr>\n",
       "    <tr>\n",
       "      <td>freq</td>\n",
       "      <td>140</td>\n",
       "      <td>32806</td>\n",
       "      <td>141</td>\n",
       "      <td>595</td>\n",
       "    </tr>\n",
       "  </tbody>\n",
       "</table>\n",
       "</div>"
      ],
      "text/plain": [
       "                                                     Link     Topic  \\\n",
       "count                                              151487    151487   \n",
       "unique                                             145258         5   \n",
       "top     https://vnexpress.net/khoa-hoc/linh-duong-non-...  Thế giới   \n",
       "freq                                                  140     32806   \n",
       "\n",
       "                                 Title                           Content  \n",
       "count                           151487                            140813  \n",
       "unique                          137060                            124129  \n",
       "top     Năm câu đố tìm điểm bất hợp lý  Mời độc giả đặt câu hỏi tại đây.  \n",
       "freq                               141                               595  "
      ]
     },
     "execution_count": 4,
     "metadata": {},
     "output_type": "execute_result"
    }
   ],
   "source": [
    "df1.describe()"
   ]
  },
  {
   "cell_type": "code",
   "execution_count": 5,
   "metadata": {},
   "outputs": [
    {
     "name": "stdout",
     "output_type": "stream",
     "text": [
      "<class 'pandas.core.frame.DataFrame'>\n",
      "RangeIndex: 151487 entries, 0 to 151486\n",
      "Data columns (total 4 columns):\n",
      "Link       151487 non-null object\n",
      "Topic      151487 non-null object\n",
      "Title      151487 non-null object\n",
      "Content    140813 non-null object\n",
      "dtypes: object(4)\n",
      "memory usage: 4.6+ MB\n"
     ]
    }
   ],
   "source": [
    "df1.info()"
   ]
  },
  {
   "cell_type": "code",
   "execution_count": 6,
   "metadata": {},
   "outputs": [
    {
     "data": {
      "text/html": [
       "<div>\n",
       "<style scoped>\n",
       "    .dataframe tbody tr th:only-of-type {\n",
       "        vertical-align: middle;\n",
       "    }\n",
       "\n",
       "    .dataframe tbody tr th {\n",
       "        vertical-align: top;\n",
       "    }\n",
       "\n",
       "    .dataframe thead th {\n",
       "        text-align: right;\n",
       "    }\n",
       "</style>\n",
       "<table border=\"1\" class=\"dataframe\">\n",
       "  <thead>\n",
       "    <tr style=\"text-align: right;\">\n",
       "      <th></th>\n",
       "      <th>Link</th>\n",
       "      <th>Topic</th>\n",
       "      <th>Title</th>\n",
       "      <th>Content</th>\n",
       "    </tr>\n",
       "  </thead>\n",
       "  <tbody>\n",
       "    <tr>\n",
       "      <td>0</td>\n",
       "      <td>https://vnexpress.net/giao-duc/bon-cau-do-do-k...</td>\n",
       "      <td>Giáo dục</td>\n",
       "      <td>Bốn câu đố đo khả năng phản xạ</td>\n",
       "      <td>Câu 1: Một cậu bé 7 tuổi đứng từ cửa sổ tầng 6...</td>\n",
       "    </tr>\n",
       "    <tr>\n",
       "      <td>1</td>\n",
       "      <td>https://vnexpress.net/giao-duc/thay-giao-singa...</td>\n",
       "      <td>Giáo dục</td>\n",
       "      <td>Thầy giáo Singapore đi tù vì ấu dâm học sinh</td>\n",
       "      <td>Ngày 22/4, tòa án ở Singapore tuyên phạt một g...</td>\n",
       "    </tr>\n",
       "    <tr>\n",
       "      <td>2</td>\n",
       "      <td>https://vnexpress.net/giao-duc/de-xuat-giao-du...</td>\n",
       "      <td>Giáo dục</td>\n",
       "      <td>Đề xuất giáo dục phổ thông trong 11 năm</td>\n",
       "      <td>Tại hội nghị phản biện Luật Giáo dục (sửa đổi)...</td>\n",
       "    </tr>\n",
       "    <tr>\n",
       "      <td>3</td>\n",
       "      <td>https://vnexpress.net/giao-duc/phu-huynh-my-ke...</td>\n",
       "      <td>Giáo dục</td>\n",
       "      <td>Phụ huynh Mỹ kêu gọi sa thải giáo viên vì phê ...</td>\n",
       "      <td>Chris Piland, sống ở bang Pennsylvania, Mỹ phẫ...</td>\n",
       "    </tr>\n",
       "    <tr>\n",
       "      <td>4</td>\n",
       "      <td>https://vnexpress.net/giao-duc/ngoi-truong-dan...</td>\n",
       "      <td>Giáo dục</td>\n",
       "      <td>Ngôi trường dành riêng cho học sinh bị bắt nạt...</td>\n",
       "      <td>Nạn bắt nạt gây ảnh hưởng tiêu cực đến cuộc số...</td>\n",
       "    </tr>\n",
       "  </tbody>\n",
       "</table>\n",
       "</div>"
      ],
      "text/plain": [
       "                                                Link     Topic  \\\n",
       "0  https://vnexpress.net/giao-duc/bon-cau-do-do-k...  Giáo dục   \n",
       "1  https://vnexpress.net/giao-duc/thay-giao-singa...  Giáo dục   \n",
       "2  https://vnexpress.net/giao-duc/de-xuat-giao-du...  Giáo dục   \n",
       "3  https://vnexpress.net/giao-duc/phu-huynh-my-ke...  Giáo dục   \n",
       "4  https://vnexpress.net/giao-duc/ngoi-truong-dan...  Giáo dục   \n",
       "\n",
       "                                               Title  \\\n",
       "0                     Bốn câu đố đo khả năng phản xạ   \n",
       "1       Thầy giáo Singapore đi tù vì ấu dâm học sinh   \n",
       "2            Đề xuất giáo dục phổ thông trong 11 năm   \n",
       "3  Phụ huynh Mỹ kêu gọi sa thải giáo viên vì phê ...   \n",
       "4  Ngôi trường dành riêng cho học sinh bị bắt nạt...   \n",
       "\n",
       "                                             Content  \n",
       "0  Câu 1: Một cậu bé 7 tuổi đứng từ cửa sổ tầng 6...  \n",
       "1  Ngày 22/4, tòa án ở Singapore tuyên phạt một g...  \n",
       "2  Tại hội nghị phản biện Luật Giáo dục (sửa đổi)...  \n",
       "3  Chris Piland, sống ở bang Pennsylvania, Mỹ phẫ...  \n",
       "4  Nạn bắt nạt gây ảnh hưởng tiêu cực đến cuộc số...  "
      ]
     },
     "execution_count": 6,
     "metadata": {},
     "output_type": "execute_result"
    }
   ],
   "source": [
    "df1.head()"
   ]
  },
  {
   "cell_type": "markdown",
   "metadata": {},
   "source": [
    "**_BƯỚC 01: TIỀN XỬ LÍ DỮ LIỆU_**"
   ]
  },
  {
   "cell_type": "code",
   "execution_count": 7,
   "metadata": {},
   "outputs": [
    {
     "data": {
      "text/html": [
       "<div>\n",
       "<style scoped>\n",
       "    .dataframe tbody tr th:only-of-type {\n",
       "        vertical-align: middle;\n",
       "    }\n",
       "\n",
       "    .dataframe tbody tr th {\n",
       "        vertical-align: top;\n",
       "    }\n",
       "\n",
       "    .dataframe thead th {\n",
       "        text-align: right;\n",
       "    }\n",
       "</style>\n",
       "<table border=\"1\" class=\"dataframe\">\n",
       "  <thead>\n",
       "    <tr style=\"text-align: right;\">\n",
       "      <th></th>\n",
       "      <th>Topic</th>\n",
       "      <th>X</th>\n",
       "    </tr>\n",
       "  </thead>\n",
       "  <tbody>\n",
       "    <tr>\n",
       "      <td>0</td>\n",
       "      <td>Giáo dục</td>\n",
       "      <td>Bốn câu đố đo khả năng phản xạ Câu 1: Một cậu ...</td>\n",
       "    </tr>\n",
       "    <tr>\n",
       "      <td>1</td>\n",
       "      <td>Giáo dục</td>\n",
       "      <td>Thầy giáo Singapore đi tù vì ấu dâm học sinh N...</td>\n",
       "    </tr>\n",
       "    <tr>\n",
       "      <td>2</td>\n",
       "      <td>Giáo dục</td>\n",
       "      <td>Đề xuất giáo dục phổ thông trong 11 năm Tại hộ...</td>\n",
       "    </tr>\n",
       "    <tr>\n",
       "      <td>3</td>\n",
       "      <td>Giáo dục</td>\n",
       "      <td>Phụ huynh Mỹ kêu gọi sa thải giáo viên vì phê ...</td>\n",
       "    </tr>\n",
       "    <tr>\n",
       "      <td>4</td>\n",
       "      <td>Giáo dục</td>\n",
       "      <td>Ngôi trường dành riêng cho học sinh bị bắt nạt...</td>\n",
       "    </tr>\n",
       "  </tbody>\n",
       "</table>\n",
       "</div>"
      ],
      "text/plain": [
       "      Topic                                                  X\n",
       "0  Giáo dục  Bốn câu đố đo khả năng phản xạ Câu 1: Một cậu ...\n",
       "1  Giáo dục  Thầy giáo Singapore đi tù vì ấu dâm học sinh N...\n",
       "2  Giáo dục  Đề xuất giáo dục phổ thông trong 11 năm Tại hộ...\n",
       "3  Giáo dục  Phụ huynh Mỹ kêu gọi sa thải giáo viên vì phê ...\n",
       "4  Giáo dục  Ngôi trường dành riêng cho học sinh bị bắt nạt..."
      ]
     },
     "execution_count": 7,
     "metadata": {},
     "output_type": "execute_result"
    }
   ],
   "source": [
    "df = df1.copy()\n",
    "\n",
    "df.drop(df[df['Content'].str.len() <= 50].index, inplace = True) # xóa các dòng có len(Content) <= 50 \n",
    "df = df.drop_duplicates()\n",
    "df = df.dropna()\n",
    "df['X'] = df['Title'] + \" \" + df['Content']\n",
    "df['X'].astype(str)\n",
    "df = df.drop([\"Link\", \"Title\", \"Content\"], axis = 1)\n",
    "df.head()"
   ]
  },
  {
   "cell_type": "code",
   "execution_count": 8,
   "metadata": {},
   "outputs": [
    {
     "data": {
      "text/html": [
       "<div>\n",
       "<style scoped>\n",
       "    .dataframe tbody tr th:only-of-type {\n",
       "        vertical-align: middle;\n",
       "    }\n",
       "\n",
       "    .dataframe tbody tr th {\n",
       "        vertical-align: top;\n",
       "    }\n",
       "\n",
       "    .dataframe thead th {\n",
       "        text-align: right;\n",
       "    }\n",
       "</style>\n",
       "<table border=\"1\" class=\"dataframe\">\n",
       "  <thead>\n",
       "    <tr style=\"text-align: right;\">\n",
       "      <th></th>\n",
       "      <th>Topic</th>\n",
       "      <th>X</th>\n",
       "    </tr>\n",
       "  </thead>\n",
       "  <tbody>\n",
       "    <tr>\n",
       "      <td>count</td>\n",
       "      <td>129106</td>\n",
       "      <td>129106</td>\n",
       "    </tr>\n",
       "    <tr>\n",
       "      <td>unique</td>\n",
       "      <td>5</td>\n",
       "      <td>122662</td>\n",
       "    </tr>\n",
       "    <tr>\n",
       "      <td>top</td>\n",
       "      <td>Pháp luật</td>\n",
       "      <td>Bí quyết cải thiện 2,5 điểm IELTS sau 380 giờ ...</td>\n",
       "    </tr>\n",
       "    <tr>\n",
       "      <td>freq</td>\n",
       "      <td>31515</td>\n",
       "      <td>3</td>\n",
       "    </tr>\n",
       "  </tbody>\n",
       "</table>\n",
       "</div>"
      ],
      "text/plain": [
       "            Topic                                                  X\n",
       "count      129106                                             129106\n",
       "unique          5                                             122662\n",
       "top     Pháp luật  Bí quyết cải thiện 2,5 điểm IELTS sau 380 giờ ...\n",
       "freq        31515                                                  3"
      ]
     },
     "execution_count": 8,
     "metadata": {},
     "output_type": "execute_result"
    }
   ],
   "source": [
    "df.describe(include = \"all\")"
   ]
  },
  {
   "cell_type": "code",
   "execution_count": 9,
   "metadata": {},
   "outputs": [
    {
     "name": "stdout",
     "output_type": "stream",
     "text": [
      "0\n"
     ]
    },
    {
     "data": {
      "text/html": [
       "<div>\n",
       "<style scoped>\n",
       "    .dataframe tbody tr th:only-of-type {\n",
       "        vertical-align: middle;\n",
       "    }\n",
       "\n",
       "    .dataframe tbody tr th {\n",
       "        vertical-align: top;\n",
       "    }\n",
       "\n",
       "    .dataframe thead th {\n",
       "        text-align: right;\n",
       "    }\n",
       "</style>\n",
       "<table border=\"1\" class=\"dataframe\">\n",
       "  <thead>\n",
       "    <tr style=\"text-align: right;\">\n",
       "      <th></th>\n",
       "      <th>Topic</th>\n",
       "      <th>X</th>\n",
       "    </tr>\n",
       "  </thead>\n",
       "  <tbody>\n",
       "    <tr>\n",
       "      <td>0</td>\n",
       "      <td>Giáo dục</td>\n",
       "      <td>Bốn câu đố đo khả năng phản xạ Câu 1: Một cậu ...</td>\n",
       "    </tr>\n",
       "    <tr>\n",
       "      <td>1</td>\n",
       "      <td>Giáo dục</td>\n",
       "      <td>Thầy giáo Singapore đi tù vì ấu dâm học sinh N...</td>\n",
       "    </tr>\n",
       "    <tr>\n",
       "      <td>2</td>\n",
       "      <td>Giáo dục</td>\n",
       "      <td>Đề xuất giáo dục phổ thông trong 11 năm Tại hộ...</td>\n",
       "    </tr>\n",
       "    <tr>\n",
       "      <td>3</td>\n",
       "      <td>Giáo dục</td>\n",
       "      <td>Phụ huynh Mỹ kêu gọi sa thải giáo viên vì phê ...</td>\n",
       "    </tr>\n",
       "    <tr>\n",
       "      <td>4</td>\n",
       "      <td>Giáo dục</td>\n",
       "      <td>Ngôi trường dành riêng cho học sinh bị bắt nạt...</td>\n",
       "    </tr>\n",
       "  </tbody>\n",
       "</table>\n",
       "</div>"
      ],
      "text/plain": [
       "      Topic                                                  X\n",
       "0  Giáo dục  Bốn câu đố đo khả năng phản xạ Câu 1: Một cậu ...\n",
       "1  Giáo dục  Thầy giáo Singapore đi tù vì ấu dâm học sinh N...\n",
       "2  Giáo dục  Đề xuất giáo dục phổ thông trong 11 năm Tại hộ...\n",
       "3  Giáo dục  Phụ huynh Mỹ kêu gọi sa thải giáo viên vì phê ...\n",
       "4  Giáo dục  Ngôi trường dành riêng cho học sinh bị bắt nạt..."
      ]
     },
     "execution_count": 9,
     "metadata": {},
     "output_type": "execute_result"
    }
   ],
   "source": [
    "# Tổng các dòng thiếu giá trị \n",
    "print(df['X'].isnull().sum().sum())\n",
    "df.head()"
   ]
  },
  {
   "cell_type": "code",
   "execution_count": 10,
   "metadata": {},
   "outputs": [
    {
     "name": "stdout",
     "output_type": "stream",
     "text": [
      "129106\n"
     ]
    },
    {
     "data": {
      "text/html": [
       "<div>\n",
       "<style scoped>\n",
       "    .dataframe tbody tr th:only-of-type {\n",
       "        vertical-align: middle;\n",
       "    }\n",
       "\n",
       "    .dataframe tbody tr th {\n",
       "        vertical-align: top;\n",
       "    }\n",
       "\n",
       "    .dataframe thead th {\n",
       "        text-align: right;\n",
       "    }\n",
       "</style>\n",
       "<table border=\"1\" class=\"dataframe\">\n",
       "  <thead>\n",
       "    <tr style=\"text-align: right;\">\n",
       "      <th></th>\n",
       "      <th>X</th>\n",
       "    </tr>\n",
       "    <tr>\n",
       "      <th>Topic</th>\n",
       "      <th></th>\n",
       "    </tr>\n",
       "  </thead>\n",
       "  <tbody>\n",
       "    <tr>\n",
       "      <td>Giáo dục</td>\n",
       "      <td>21543</td>\n",
       "    </tr>\n",
       "    <tr>\n",
       "      <td>Khoa học</td>\n",
       "      <td>19940</td>\n",
       "    </tr>\n",
       "    <tr>\n",
       "      <td>Pháp luật</td>\n",
       "      <td>31515</td>\n",
       "    </tr>\n",
       "    <tr>\n",
       "      <td>Thế giới</td>\n",
       "      <td>29987</td>\n",
       "    </tr>\n",
       "    <tr>\n",
       "      <td>Thời sự</td>\n",
       "      <td>26121</td>\n",
       "    </tr>\n",
       "  </tbody>\n",
       "</table>\n",
       "</div>"
      ],
      "text/plain": [
       "               X\n",
       "Topic           \n",
       "Giáo dục   21543\n",
       "Khoa học   19940\n",
       "Pháp luật  31515\n",
       "Thế giới   29987\n",
       "Thời sự    26121"
      ]
     },
     "execution_count": 10,
     "metadata": {},
     "output_type": "execute_result"
    }
   ],
   "source": [
    "# Tổng số bài báo lấy được từ data thô\n",
    "print(len(df))\n",
    "\n",
    "# Số lượng các thể loại bài báo \n",
    "s = df.groupby(['Topic']).count()\n",
    "s"
   ]
  },
  {
   "cell_type": "code",
   "execution_count": 11,
   "metadata": {},
   "outputs": [],
   "source": [
    "# Tách thành 1 series là y và dataFrame X\n",
    "y_sr = df[\"Topic\"] \n",
    "X_df = df.drop(\"Topic\", axis=1)"
   ]
  },
  {
   "cell_type": "code",
   "execution_count": 12,
   "metadata": {},
   "outputs": [],
   "source": [
    "# Tách tập train, tập validation, tập test theo tỉ lệ 6:2:2\n",
    "train_X_df, test_X_df, train_y_sr, test_y_sr = train_test_split(X_df, y_sr, test_size=0.2, stratify = y_sr, random_state=0)"
   ]
  },
  {
   "cell_type": "code",
   "execution_count": 13,
   "metadata": {},
   "outputs": [],
   "source": [
    "# Tách tập train, tập validation, tập test theo tỉ lệ 6:2:2\n",
    "X_train, val_X_df, y_train, val_y_sr = train_test_split(train_X_df,train_y_sr, stratify = train_y_sr, random_state=0)"
   ]
  },
  {
   "cell_type": "code",
   "execution_count": 14,
   "metadata": {},
   "outputs": [],
   "source": [
    "#LƯU TRAIN, TEST, VAL RA 3 FILE CSV\n",
    "\n",
    "#train = X_train\n",
    "#train['y'] = y_train\n",
    "\n",
    "#val = val_X_df\n",
    "#val['y'] = val_y_sr\n",
    "\n",
    "#test = test_X_df\n",
    "#test['y'] = test_y_sr\n",
    "\n",
    "#train.to_csv(\"train.csv\", sep = \"\\t\", index = None)\n",
    "#val.to_csv(\"val.csv\", sep = \"\\t\", index = None)\n",
    "#test.to_csv(\"test.csv\", sep = \"\\t\", index = None)"
   ]
  },
  {
   "cell_type": "code",
   "execution_count": 15,
   "metadata": {},
   "outputs": [
    {
     "data": {
      "text/html": [
       "<div>\n",
       "<style scoped>\n",
       "    .dataframe tbody tr th:only-of-type {\n",
       "        vertical-align: middle;\n",
       "    }\n",
       "\n",
       "    .dataframe tbody tr th {\n",
       "        vertical-align: top;\n",
       "    }\n",
       "\n",
       "    .dataframe thead th {\n",
       "        text-align: right;\n",
       "    }\n",
       "</style>\n",
       "<table border=\"1\" class=\"dataframe\">\n",
       "  <thead>\n",
       "    <tr style=\"text-align: right;\">\n",
       "      <th></th>\n",
       "      <th>X</th>\n",
       "    </tr>\n",
       "  </thead>\n",
       "  <tbody>\n",
       "    <tr>\n",
       "      <td>count</td>\n",
       "      <td>103284</td>\n",
       "    </tr>\n",
       "    <tr>\n",
       "      <td>unique</td>\n",
       "      <td>99075</td>\n",
       "    </tr>\n",
       "    <tr>\n",
       "      <td>top</td>\n",
       "      <td>Bài toán 'xác định đồng tiền giả' Hai đồng tiề...</td>\n",
       "    </tr>\n",
       "    <tr>\n",
       "      <td>freq</td>\n",
       "      <td>3</td>\n",
       "    </tr>\n",
       "  </tbody>\n",
       "</table>\n",
       "</div>"
      ],
      "text/plain": [
       "                                                        X\n",
       "count                                              103284\n",
       "unique                                              99075\n",
       "top     Bài toán 'xác định đồng tiền giả' Hai đồng tiề...\n",
       "freq                                                    3"
      ]
     },
     "execution_count": 15,
     "metadata": {},
     "output_type": "execute_result"
    }
   ],
   "source": [
    "# XEM DỮ LIỆU TẬP TRAIN\n",
    "train_X_df.describe()"
   ]
  },
  {
   "cell_type": "code",
   "execution_count": 16,
   "metadata": {},
   "outputs": [
    {
     "data": {
      "text/html": [
       "<div>\n",
       "<style scoped>\n",
       "    .dataframe tbody tr th:only-of-type {\n",
       "        vertical-align: middle;\n",
       "    }\n",
       "\n",
       "    .dataframe tbody tr th {\n",
       "        vertical-align: top;\n",
       "    }\n",
       "\n",
       "    .dataframe thead th {\n",
       "        text-align: right;\n",
       "    }\n",
       "</style>\n",
       "<table border=\"1\" class=\"dataframe\">\n",
       "  <thead>\n",
       "    <tr style=\"text-align: right;\">\n",
       "      <th></th>\n",
       "      <th>X</th>\n",
       "    </tr>\n",
       "  </thead>\n",
       "  <tbody>\n",
       "    <tr>\n",
       "      <td>count</td>\n",
       "      <td>25821</td>\n",
       "    </tr>\n",
       "    <tr>\n",
       "      <td>unique</td>\n",
       "      <td>25558</td>\n",
       "    </tr>\n",
       "    <tr>\n",
       "      <td>top</td>\n",
       "      <td>Nạn đập kính ôtô trộm cắp tài sản Trộm phá vỡ ...</td>\n",
       "    </tr>\n",
       "    <tr>\n",
       "      <td>freq</td>\n",
       "      <td>2</td>\n",
       "    </tr>\n",
       "  </tbody>\n",
       "</table>\n",
       "</div>"
      ],
      "text/plain": [
       "                                                        X\n",
       "count                                               25821\n",
       "unique                                              25558\n",
       "top     Nạn đập kính ôtô trộm cắp tài sản Trộm phá vỡ ...\n",
       "freq                                                    2"
      ]
     },
     "execution_count": 16,
     "metadata": {},
     "output_type": "execute_result"
    }
   ],
   "source": [
    "# XEM DỮ LIỆU TẬP VALIDATION\n",
    "val_X_df.describe()"
   ]
  },
  {
   "cell_type": "code",
   "execution_count": 17,
   "metadata": {},
   "outputs": [
    {
     "data": {
      "text/html": [
       "<div>\n",
       "<style scoped>\n",
       "    .dataframe tbody tr th:only-of-type {\n",
       "        vertical-align: middle;\n",
       "    }\n",
       "\n",
       "    .dataframe tbody tr th {\n",
       "        vertical-align: top;\n",
       "    }\n",
       "\n",
       "    .dataframe thead th {\n",
       "        text-align: right;\n",
       "    }\n",
       "</style>\n",
       "<table border=\"1\" class=\"dataframe\">\n",
       "  <thead>\n",
       "    <tr style=\"text-align: right;\">\n",
       "      <th></th>\n",
       "      <th>X</th>\n",
       "    </tr>\n",
       "  </thead>\n",
       "  <tbody>\n",
       "    <tr>\n",
       "      <td>count</td>\n",
       "      <td>25822</td>\n",
       "    </tr>\n",
       "    <tr>\n",
       "      <td>unique</td>\n",
       "      <td>25573</td>\n",
       "    </tr>\n",
       "    <tr>\n",
       "      <td>top</td>\n",
       "      <td>Cô gái Việt tử vong trong căn hộ ở Nhật Bản Ma...</td>\n",
       "    </tr>\n",
       "    <tr>\n",
       "      <td>freq</td>\n",
       "      <td>3</td>\n",
       "    </tr>\n",
       "  </tbody>\n",
       "</table>\n",
       "</div>"
      ],
      "text/plain": [
       "                                                        X\n",
       "count                                               25822\n",
       "unique                                              25573\n",
       "top     Cô gái Việt tử vong trong căn hộ ở Nhật Bản Ma...\n",
       "freq                                                    3"
      ]
     },
     "execution_count": 17,
     "metadata": {},
     "output_type": "execute_result"
    }
   ],
   "source": [
    "# XEM DỮ LIỆU TẬP TEST\n",
    "test_X_df.describe()"
   ]
  },
  {
   "cell_type": "code",
   "execution_count": 18,
   "metadata": {},
   "outputs": [],
   "source": [
    "# Tách từ tiếng việt\n",
    "class FeatureTransformer(BaseEstimator, TransformerMixin):\n",
    "    def __init__(self):\n",
    "        self.tokenizer = ViTokenizer\n",
    "        self.pos_tagger = ViPosTagger\n",
    "            \n",
    "    def fit(self, *_):\n",
    "        return self\n",
    "\n",
    "    def transform(self, X, y=None, **fit_params):\n",
    "        result = X.apply(lambda text:  self.tokenizer.tokenize(text))\n",
    "        return result"
   ]
  },
  {
   "cell_type": "markdown",
   "metadata": {},
   "source": [
    "**_BƯỚC 02: MÔ HÌNH HÓA DỮ LIỆU_**\n",
    "\n",
    "***1. Naive Bayes*** "
   ]
  },
  {
   "cell_type": "code",
   "execution_count": 19,
   "metadata": {},
   "outputs": [],
   "source": [
    "Naive_Bayes_Model_pipe_line = Pipeline([(\"transformer\", FeatureTransformer()),(\"vect\", CountVectorizer()),(\"tfidf\", TfidfTransformer()),(\"clf\", MultinomialNB())])    "
   ]
  },
  {
   "cell_type": "code",
   "execution_count": 20,
   "metadata": {},
   "outputs": [
    {
     "data": {
      "text/plain": [
       "Pipeline(memory=None,\n",
       "         steps=[('transformer', FeatureTransformer()),\n",
       "                ('vect',\n",
       "                 CountVectorizer(analyzer='word', binary=False,\n",
       "                                 decode_error='strict',\n",
       "                                 dtype=<class 'numpy.int64'>, encoding='utf-8',\n",
       "                                 input='content', lowercase=True, max_df=1.0,\n",
       "                                 max_features=None, min_df=1,\n",
       "                                 ngram_range=(1, 1), preprocessor=None,\n",
       "                                 stop_words=None, strip_accents=None,\n",
       "                                 token_pattern='(?u)\\\\b\\\\w\\\\w+\\\\b',\n",
       "                                 tokenizer=None, vocabulary=None)),\n",
       "                ('tfidf',\n",
       "                 TfidfTransformer(norm='l2', smooth_idf=True,\n",
       "                                  sublinear_tf=False, use_idf=True)),\n",
       "                ('clf',\n",
       "                 MultinomialNB(alpha=1.0, class_prior=None, fit_prior=True))],\n",
       "         verbose=False)"
      ]
     },
     "execution_count": 20,
     "metadata": {},
     "output_type": "execute_result"
    }
   ],
   "source": [
    "Naive_Bayes_Model_pipe_line.fit(train_X_df['X'], train_y_sr)"
   ]
  },
  {
   "cell_type": "code",
   "execution_count": 21,
   "metadata": {},
   "outputs": [
    {
     "data": {
      "text/plain": [
       "array(['Thế giới', 'Giáo dục', 'Thế giới', ..., 'Thế giới', 'Thời sự',\n",
       "       'Giáo dục'], dtype='<U9')"
      ]
     },
     "execution_count": 21,
     "metadata": {},
     "output_type": "execute_result"
    }
   ],
   "source": [
    "Naive_Bayes_Model_pipe_line.predict(val_X_df['X'])"
   ]
  },
  {
   "cell_type": "code",
   "execution_count": 22,
   "metadata": {},
   "outputs": [
    {
     "name": "stdout",
     "output_type": "stream",
     "text": [
      "0.9116997792494481\n"
     ]
    }
   ],
   "source": [
    "score1 = Naive_Bayes_Model_pipe_line.score(val_X_df['X'], val_y_sr)\n",
    "print(score1)"
   ]
  },
  {
   "cell_type": "markdown",
   "metadata": {},
   "source": [
    "***2. Randome Forest*** "
   ]
  },
  {
   "cell_type": "code",
   "execution_count": 23,
   "metadata": {},
   "outputs": [],
   "source": [
    "RandomForest_pipe_line = Pipeline([(\"transformer\", FeatureTransformer()),(\"vect\", CountVectorizer()),(\"tfidf\", TfidfTransformer()),(\"randomForest\", RandomForestClassifier(n_jobs=5))])"
   ]
  },
  {
   "cell_type": "code",
   "execution_count": 24,
   "metadata": {},
   "outputs": [
    {
     "data": {
      "text/plain": [
       "Pipeline(memory=None,\n",
       "         steps=[('transformer', FeatureTransformer()),\n",
       "                ('vect',\n",
       "                 CountVectorizer(analyzer='word', binary=False,\n",
       "                                 decode_error='strict',\n",
       "                                 dtype=<class 'numpy.int64'>, encoding='utf-8',\n",
       "                                 input='content', lowercase=True, max_df=1.0,\n",
       "                                 max_features=None, min_df=1,\n",
       "                                 ngram_range=(1, 1), preprocessor=None,\n",
       "                                 stop_words=None, strip_accents=None,\n",
       "                                 token_pattern='(?u)\\\\b\\\\w\\...\n",
       "                ('randomForest',\n",
       "                 RandomForestClassifier(bootstrap=True, class_weight=None,\n",
       "                                        criterion='gini', max_depth=None,\n",
       "                                        max_features='auto',\n",
       "                                        max_leaf_nodes=None,\n",
       "                                        min_impurity_decrease=0.0,\n",
       "                                        min_impurity_split=None,\n",
       "                                        min_samples_leaf=1, min_samples_split=2,\n",
       "                                        min_weight_fraction_leaf=0.0,\n",
       "                                        n_estimators=10, n_jobs=5,\n",
       "                                        oob_score=False, random_state=None,\n",
       "                                        verbose=0, warm_start=False))],\n",
       "         verbose=False)"
      ]
     },
     "execution_count": 24,
     "metadata": {},
     "output_type": "execute_result"
    }
   ],
   "source": [
    "RandomForest_pipe_line.fit(train_X_df['X'], train_y_sr)"
   ]
  },
  {
   "cell_type": "code",
   "execution_count": 25,
   "metadata": {},
   "outputs": [
    {
     "data": {
      "text/plain": [
       "array(['Khoa học', 'Giáo dục', 'Thế giới', ..., 'Thế giới', 'Thời sự',\n",
       "       'Giáo dục'], dtype=object)"
      ]
     },
     "execution_count": 25,
     "metadata": {},
     "output_type": "execute_result"
    }
   ],
   "source": [
    "RandomForest_pipe_line.predict(val_X_df['X'])"
   ]
  },
  {
   "cell_type": "code",
   "execution_count": 26,
   "metadata": {},
   "outputs": [
    {
     "name": "stdout",
     "output_type": "stream",
     "text": [
      "0.9983346888191782\n"
     ]
    }
   ],
   "source": [
    "score1 = RandomForest_pipe_line.score(val_X_df['X'], val_y_sr)\n",
    "print(score1)"
   ]
  },
  {
   "cell_type": "markdown",
   "metadata": {},
   "source": [
    "**3. K-NN**"
   ]
  },
  {
   "cell_type": "code",
   "execution_count": 27,
   "metadata": {},
   "outputs": [],
   "source": [
    "KNN_pipe_line = Pipeline([(\"transformer\", FeatureTransformer()),(\"vect\", CountVectorizer()),(\"tfidf\", TfidfTransformer()),(\"KNN\", KNeighborsClassifier(n_jobs=5))])"
   ]
  },
  {
   "cell_type": "code",
   "execution_count": 28,
   "metadata": {},
   "outputs": [
    {
     "data": {
      "text/plain": [
       "Pipeline(memory=None,\n",
       "         steps=[('transformer', FeatureTransformer()),\n",
       "                ('vect',\n",
       "                 CountVectorizer(analyzer='word', binary=False,\n",
       "                                 decode_error='strict',\n",
       "                                 dtype=<class 'numpy.int64'>, encoding='utf-8',\n",
       "                                 input='content', lowercase=True, max_df=1.0,\n",
       "                                 max_features=None, min_df=1,\n",
       "                                 ngram_range=(1, 1), preprocessor=None,\n",
       "                                 stop_words=None, strip_accents=None,\n",
       "                                 token_pattern='(?u)\\\\b\\\\w\\\\w+\\\\b',\n",
       "                                 tokenizer=None, vocabulary=None)),\n",
       "                ('tfidf',\n",
       "                 TfidfTransformer(norm='l2', smooth_idf=True,\n",
       "                                  sublinear_tf=False, use_idf=True)),\n",
       "                ('KNN',\n",
       "                 KNeighborsClassifier(algorithm='auto', leaf_size=30,\n",
       "                                      metric='minkowski', metric_params=None,\n",
       "                                      n_jobs=5, n_neighbors=5, p=2,\n",
       "                                      weights='uniform'))],\n",
       "         verbose=False)"
      ]
     },
     "execution_count": 28,
     "metadata": {},
     "output_type": "execute_result"
    }
   ],
   "source": [
    "KNN_pipe_line.fit(train_X_df['X'], train_y_sr)"
   ]
  },
  {
   "cell_type": "code",
   "execution_count": 29,
   "metadata": {},
   "outputs": [
    {
     "name": "stdout",
     "output_type": "stream",
     "text": [
      "0.9343557569420239\n"
     ]
    }
   ],
   "source": [
    "score1_KNN = KNN_pipe_line.score(val_X_df['X'], val_y_sr)\n",
    "print(score1_KNN)"
   ]
  },
  {
   "cell_type": "markdown",
   "metadata": {},
   "source": [
    "**Qua kết quả tính độ chính xác dựa trên 3 mô hình thì nhóm quyết định chọn mô hình RandomForest**\n",
    "\n",
    "**Tiếp theo: Chọn tham số cho mô hình RandomForest**"
   ]
  },
  {
   "cell_type": "code",
   "execution_count": 33,
   "metadata": {},
   "outputs": [
    {
     "name": "stdout",
     "output_type": "stream",
     "text": [
      "n_jobs =  3\n",
      "score1 =  0.9984896014871616 \n",
      "\n",
      "\n",
      "n_jobs =  6\n",
      "score1 =  0.9984121451531699 \n",
      "\n",
      "\n",
      "n_jobs =  7\n",
      "score1 =  0.9981797761511948 \n",
      "\n",
      "\n",
      "n_jobs =  8\n",
      "score1 =  0.9978699508152279 \n",
      "\n",
      "\n",
      "n_jobs =  9\n",
      "score1 =  0.9982185043181906 \n",
      "\n",
      "\n"
     ]
    }
   ],
   "source": [
    "array_n_jobs = [3, 6, 7, 8, 9]\n",
    "score1s = []\n",
    "\n",
    "for i in array_n_jobs:\n",
    "    RandomForest_pipe_line = Pipeline([(\"transformer\", FeatureTransformer()),(\"vect\", CountVectorizer()),(\"tfidf\", TfidfTransformer()),(\"randomForest\", RandomForestClassifier(n_jobs=i))])\n",
    "    RandomForest_pipe_line.fit(train_X_df['X'], train_y_sr)\n",
    "    score1 = RandomForest_pipe_line.score(val_X_df['X'], val_y_sr)\n",
    "    score1s.append(score1)\n",
    "    print(\"n_jobs = \", i)\n",
    "    print(\"score1 = \", score1, \"\\n\\n\")"
   ]
  },
  {
   "cell_type": "markdown",
   "metadata": {},
   "source": [
    "**Với các n_jobs = [3,5,6,7,8,9] thì độ chính xác của mô hình RandomForest với n_job = 3 lớn nhất nên nhóm chọn mô hình RandomForest với n_job = 3**\n",
    "\n",
    "**_BƯỚC 03: TEST_**"
   ]
  },
  {
   "cell_type": "code",
   "execution_count": 38,
   "metadata": {},
   "outputs": [
    {
     "name": "stdout",
     "output_type": "stream",
     "text": [
      "0.8655022848733638\n"
     ]
    }
   ],
   "source": [
    "RandomForest_pipe_line = Pipeline([(\"transformer\", FeatureTransformer()),(\"vect\", CountVectorizer()),(\"tfidf\", TfidfTransformer()),(\"randomForest\", RandomForestClassifier(n_jobs=3))])\n",
    "RandomForest_pipe_line.fit(train_X_df['X'], train_y_sr)\n",
    "score1_test = RandomForest_pipe_line.score(test_X_df['X'], test_y_sr)\n",
    "print(score1_test)"
   ]
  }
 ],
 "metadata": {
  "kernelspec": {
   "display_name": "Python 3",
   "language": "python",
   "name": "python3"
  },
  "language_info": {
   "codemirror_mode": {
    "name": "ipython",
    "version": 3
   },
   "file_extension": ".py",
   "mimetype": "text/x-python",
   "name": "python",
   "nbconvert_exporter": "python",
   "pygments_lexer": "ipython3",
   "version": "3.7.4"
  }
 },
 "nbformat": 4,
 "nbformat_minor": 4
}
